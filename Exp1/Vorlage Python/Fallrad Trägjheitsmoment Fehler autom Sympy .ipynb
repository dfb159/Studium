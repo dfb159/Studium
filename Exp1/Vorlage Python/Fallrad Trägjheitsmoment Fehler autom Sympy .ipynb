{
 "cells": [
  {
   "cell_type": "code",
   "execution_count": 1,
   "metadata": {
    "collapsed": true
   },
   "outputs": [],
   "source": [
    "#Maxwellsches fallrad\n",
    "import numpy as np\n",
    "import scipy as sp\n",
    "import sympy as smp\n",
    "from IPython.display import display, Math, Latex\n",
    "import matplotlib.pyplot as plt\n",
    "import matplotlib\n",
    "import matplotlib.axes as axes\n",
    "import math\n",
    "import statistics as stat\n",
    "from scipy import optimize\n",
    "import uncertainties as uc\n",
    "import uncertainties.unumpy as unp \n",
    "unv=unp.nominal_values\n",
    "usd=unp.std_devs"
   ]
  },
  {
   "cell_type": "code",
   "execution_count": 48,
   "metadata": {},
   "outputs": [
    {
     "data": {
      "text/plain": [
       "(0.01162, 4.6470635889774607e-05)"
      ]
     },
     "execution_count": 48,
     "metadata": {},
     "output_type": "execute_result"
    }
   ],
   "source": [
    "tp=1.14\n",
    "#Volumen rad best J\n",
    "#Dicke Rad D->H_k\n",
    "D=10**(-3)*np.array([11.68,11.56,11.60,11.72,11.54])\n",
    "D_m=np.mean(D)\n",
    "uD1=np.sqrt((1e-3*0.06/np.sqrt(6))**2)\n",
    "uD2=tp*np.sqrt(np.dot(D-D_m,D-D_m)/(len(D)*(len(D)-1)))\n",
    "uD=np.sqrt(uD1**2+uD2**2)\n",
    "H_k=D_m\n",
    "uH_k=uD\n",
    "H_k,uH_k"
   ]
  },
  {
   "cell_type": "code",
   "execution_count": 49,
   "metadata": {},
   "outputs": [
    {
     "data": {
      "text/plain": [
       "(0.085113999999999995, 3.430510166141509e-05)"
      ]
     },
     "execution_count": 49,
     "metadata": {},
     "output_type": "execute_result"
    }
   ],
   "source": [
    "#Radius außen R_a\n",
    "R_aroh=0.5*10**(-3)*np.array([170.18,170.20,170.40,170.14,170.22])\n",
    "R_a=np.mean(R_aroh)\n",
    "uR_a=np.sqrt((1e-3*0.06/np.sqrt(6))**2+tp*np.dot(R_aroh-R_a,R_aroh-R_a)/(len(R_aroh)*(len(R_aroh)-1)))\n",
    "R_a,uR_a"
   ]
  },
  {
   "cell_type": "code",
   "execution_count": 50,
   "metadata": {},
   "outputs": [
    {
     "data": {
      "text/plain": [
       "(0.072714000000000001, 4.138405490040802e-05)"
      ]
     },
     "execution_count": 50,
     "metadata": {},
     "output_type": "execute_result"
    }
   ],
   "source": [
    "#Radius innen R_i\n",
    "R_iroh=0.5*10**(-3)*np.array([145.40,145.48,145.20,145.56,145.50])\n",
    "R_i=np.mean(R_iroh)\n",
    "uR_i=np.sqrt((1e-3*0.06/np.sqrt(6))**2+tp*np.dot(R_iroh-R_i,R_iroh-R_i)/(len(R_iroh)*(len(R_iroh)-1)))\n",
    "H_S=R_i\n",
    "uH_S=uR_i\n",
    "R_i,uR_i"
   ]
  },
  {
   "cell_type": "code",
   "execution_count": 51,
   "metadata": {},
   "outputs": [
    {
     "data": {
      "text/plain": [
       "(0.0040299999999999997, 2.5632011235952637e-05)"
      ]
     },
     "execution_count": 51,
     "metadata": {},
     "output_type": "execute_result"
    }
   ],
   "source": [
    "#Radius Speiche- speichen gleich dick -> mittelung\n",
    "R_Sroh=0.5*10**(-3)*np.array([8.04,8.06,8.04,8.1])\n",
    "R_S=np.mean(R_Sroh)\n",
    "uR_S=np.sqrt((1e-3*0.06/np.sqrt(6))**2+tp*np.dot(R_Sroh-R_S,R_Sroh-R_S)/(len(R_Sroh)*(len(R_Sroh)-1)))\n",
    "R_S,uR_S"
   ]
  },
  {
   "cell_type": "code",
   "execution_count": 52,
   "metadata": {},
   "outputs": [
    {
     "data": {
      "text/plain": [
       "(0.73204,\n",
       " 5.7735026918962587e-06,\n",
       " 0.2003,\n",
       " 2.4494897427831785e-05,\n",
       " 0.0040499999999999998,\n",
       " 2.4955961211702471e-05)"
      ]
     },
     "execution_count": 52,
     "metadata": {},
     "output_type": "execute_result"
    }
   ],
   "source": [
    "#Höhe Achse\n",
    "H_A=200.3e-3\n",
    "uH_A=1e-3*0.06/np.sqrt(6)\n",
    "#Masse\n",
    "M=0.73204\n",
    "uM=1e-3*0.01/np.sqrt(3)\n",
    "#Radius Achse\n",
    "R_Aroh=0.5e-3*np.array([8.1,8.12,8.12,8.08,8.08])\n",
    "R_A=np.mean(R_Aroh)\n",
    "uR_A=np.sqrt((1e-3*0.06/np.sqrt(6))**2+tp*np.dot(R_Aroh-R_A,R_Aroh-R_A)/(len(R_Aroh)*(len(R_Aroh)-1)))\n",
    "M,uM,H_A,uH_A,R_A,uR_A"
   ]
  },
  {
   "cell_type": "code",
   "execution_count": 53,
   "metadata": {
    "collapsed": true
   },
   "outputs": [],
   "source": [
    "#Hier die Variablen deklarieren/ \"d\" ist reserviert und darf nicht verwendet werden\n",
    "vM,vH_k,vR_a,vR_i,vH_S,vR_S,vH_A,vR_A = smp.symbols('M H_k R_a R_i H_S R_S H_A R_A') #hier Eure Variablennamen einsetzen\n",
    "variablen = [vM, vH_k,vR_a,vR_i,vH_S,vR_S,vH_A,vR_A]         #hier Eure Variablennamen einsetzen\n",
    "#Zahlenwerte und Fehlerwerte\n",
    "variablen_werte = [M,H_k,R_a,R_i,R_i,R_S,H_A,R_A]  #Werte h=2.8, r=4.2, T=2.4 /hier Eure Werte einsetzen\n",
    "fehler_werte = [uM,uH_k,uR_a,uR_i,uR_i,uR_S,uH_A,uR_A]   # dito fuer die Fehler /hier Eure Werte einsetzen"
   ]
  },
  {
   "cell_type": "code",
   "execution_count": 54,
   "metadata": {},
   "outputs": [
    {
     "name": "stdout",
     "output_type": "stream",
     "text": [
      "\\frac{M \\left(2 H_{S} \\left(\\frac{H_{A} R_{A}^{4}}{2} + \\frac{H_{S}^{2} R_{S}^{2}}{12} + \\frac{R_{S}^{4}}{4}\\right) + 0.5 H_{k} \\left(R_{a}^{4} - R_{i}^{4}\\right)\\right)}{H_{A} R_{A}^{2} + H_{k} \\left(R_{a}^{2} - R_{i}^{2}\\right) + 2 R_{S}^{2} R_{i}}\n"
     ]
    }
   ],
   "source": [
    "#funktion definieren hier das Trägheitsmoment\n",
    "#vol: funktion = vH_k*smp.pi*(vR_a**2-vR_i**2)+2*vR_i*smp.pi*vR_S**2+vH_A*smp.pi*vR_A**2\n",
    "#funktion=M/(H_k*(R_a**2-R_i**2)+2*R_i*R_S**2+H_A*R_A**2)\n",
    "funktion=vM/(vH_k*(vR_a**2-vR_i**2)+2*vR_i*vR_S**2+vH_A*vR_A**2)*\\\n",
    "(0.5*vH_k*(vR_a**4-vR_i**4)+2*vH_S*(vH_S**2*vR_S**2/12+vR_S**4/4+vH_A*vR_A**4/2))\n",
    "print(smp.latex((funktion)))"
   ]
  },
  {
   "cell_type": "code",
   "execution_count": 9,
   "metadata": {},
   "outputs": [
    {
     "name": "stdout",
     "output_type": "stream",
     "text": [
      "sqrt((4*M**2*R_S**2*dR_S**2*(H_S*(H_S**2 + 6*R_S**2)*(H_A*R_A**2 + H_k*(R_a**2 - R_i**2) + 2*R_S**2*R_i) - 2*R_i*(H_S*(6*H_A*R_A**4 + H_S**2*R_S**2 + 3*R_S**4) + 3.0*H_k*(R_a**4 - R_i**4)))**2 + M**2*(4*H_A**2*R_A**2*dR_A**2*(12*H_S*R_A**2*(H_A*R_A**2 + H_k*(R_a**2 - R_i**2) + 2*R_S**2*R_i) - H_S*(6*H_A*R_A**4 + H_S**2*R_S**2 + 3*R_S**4) - 3.0*H_k*(R_a**4 - R_i**4))**2 + 4*H_k**2*R_a**2*dR_a**2*(-H_S*(6*H_A*R_A**4 + H_S**2*R_S**2 + 3*R_S**4) - 3.0*H_k*(R_a**4 - R_i**4) + 6.0*R_a**2*(H_A*R_A**2 + H_k*(R_a**2 - R_i**2) + 2*R_S**2*R_i))**2 + R_A**4*dH_A**2*(6*H_S*R_A**2*(H_A*R_A**2 + H_k*(R_a**2 - R_i**2) + 2*R_S**2*R_i) - H_S*(6*H_A*R_A**4 + H_S**2*R_S**2 + 3*R_S**4) - 3.0*H_k*(R_a**4 - R_i**4))**2 + dH_k**2*((R_a**2 - R_i**2)*(H_S*(6*H_A*R_A**4 + H_S**2*R_S**2 + 3*R_S**4) + 3.0*H_k*(R_a**4 - R_i**4)) - 3.0*(R_a**4 - R_i**4)*(H_A*R_A**2 + H_k*(R_a**2 - R_i**2) + 2*R_S**2*R_i))**2 + dR_i**2*(12.0*H_k*R_i**3*(H_A*R_A**2 + H_k*(R_a**2 - R_i**2) + 2*R_S**2*R_i) - 2*(H_S*(6*H_A*R_A**4 + H_S**2*R_S**2 + 3*R_S**4) + 3.0*H_k*(R_a**4 - R_i**4))*(H_k*R_i - R_S**2))**2) + (9*M**2*dH_S**2*(2*H_A*R_A**4 + H_S**2*R_S**2 + R_S**4)**2 + dM**2*(H_S*(6*H_A*R_A**4 + H_S**2*R_S**2 + 3*R_S**4) + 3.0*H_k*(R_a**4 - R_i**4))**2)*(H_A*R_A**2 + H_k*(R_a**2 - R_i**2) + 2*R_S**2*R_i)**2)/(H_A*R_A**2 + H_k*(R_a**2 - R_i**2) + 2*R_S**2*R_i)**4)/6\n"
     ]
    }
   ],
   "source": [
    "fehler = 0\n",
    "fehlersymbole=[]\n",
    "ableitungen_quadr = []\n",
    "\n",
    "for var in variablen:\n",
    "    d = smp.symbols('d' + var.name)        #Symbole fuer die Fehler generieren\n",
    "    fehlersymbole.append(d)               #Fehlersymbole in Liste eintragen\n",
    "    partial = smp.diff(funktion, var) * d  #Partielle Differentation und mit mit Fehlersymbol 'd' multiplizieren\n",
    "    ableitungen_quadr.append(partial**2)  \n",
    "    fehler = fehler + partial**2\n",
    "\n",
    "fehler_abs=smp.simplify(smp.sqrt(fehler))              #Latex Format fuer den absoluten Fehler\n",
    "fehler_rel=smp.simplify(smp.sqrt(fehler/funktion**2))  #Latex Format fuer den relativen Fehler\n",
    "print(fehler_abs)"
   ]
  },
  {
   "cell_type": "code",
   "execution_count": 10,
   "metadata": {},
   "outputs": [
    {
     "name": "stdout",
     "output_type": "stream",
     "text": [
      "6.36452170087612e-11\n"
     ]
    }
   ],
   "source": [
    "#Berechnung der Zahlenwerte\n",
    "funktions_wert=smp.Subs(funktion,variablen,variablen_werte).doit() #Variablenwerte (Zahlen) in Formel einsetzen und\n",
    "                                                                  #Funktionswert berechnen\n",
    "err1=smp.Subs(fehler,variablen,variablen_werte).doit()             #Variablenwerte (Zahlen) in FehlerFormel einsetzen \n",
    "\n",
    "err2=smp.Subs(err1,fehlersymbole,fehler_werte).doit()              #Variablenwerte (Zahlen) in FehlerFormel einsetzen und\n",
    "                                                                  #Funktionswert berechnen\n",
    "print(err2)"
   ]
  },
  {
   "cell_type": "code",
   "execution_count": 11,
   "metadata": {},
   "outputs": [
    {
     "name": "stdout",
     "output_type": "stream",
     "text": [
      "Funktion:\n"
     ]
    },
    {
     "data": {
      "text/latex": [
       "$$f=\\frac{M \\left(2 H_{S} \\left(\\frac{H_{A} R_{A}^{4}}{2} + \\frac{H_{S}^{2} R_{S}^{2}}{12} + \\frac{R_{S}^{4}}{4}\\right) + 0.5 H_{k} \\left(R_{a}^{4} - R_{i}^{4}\\right)\\right)}{H_{A} R_{A}^{2} + H_{k} \\left(R_{a}^{2} - R_{i}^{2}\\right) + 2 R_{S}^{2} R_{i}}$$"
      ],
      "text/plain": [
       "<IPython.core.display.Math object>"
      ]
     },
     "metadata": {},
     "output_type": "display_data"
    },
    {
     "name": "stdout",
     "output_type": "stream",
     "text": [
      "Messwerte:\n"
     ]
    },
    {
     "data": {
      "text/latex": [
       "$$M=0.73204\\pm 5.7735026919e-06$$"
      ],
      "text/plain": [
       "<IPython.core.display.Math object>"
      ]
     },
     "metadata": {},
     "output_type": "display_data"
    },
    {
     "data": {
      "text/latex": [
       "$$H_k=0.01162\\pm 4.64706358898e-05$$"
      ],
      "text/plain": [
       "<IPython.core.display.Math object>"
      ]
     },
     "metadata": {},
     "output_type": "display_data"
    },
    {
     "data": {
      "text/latex": [
       "$$R_a=0.085114\\pm 3.43051016614e-05$$"
      ],
      "text/plain": [
       "<IPython.core.display.Math object>"
      ]
     },
     "metadata": {},
     "output_type": "display_data"
    },
    {
     "data": {
      "text/latex": [
       "$$R_i=0.072714\\pm 4.13840549004e-05$$"
      ],
      "text/plain": [
       "<IPython.core.display.Math object>"
      ]
     },
     "metadata": {},
     "output_type": "display_data"
    },
    {
     "data": {
      "text/latex": [
       "$$H_S=0.072714\\pm 4.13840549004e-05$$"
      ],
      "text/plain": [
       "<IPython.core.display.Math object>"
      ]
     },
     "metadata": {},
     "output_type": "display_data"
    },
    {
     "data": {
      "text/latex": [
       "$$R_S=0.00403\\pm 2.5632011236e-05$$"
      ],
      "text/plain": [
       "<IPython.core.display.Math object>"
      ]
     },
     "metadata": {},
     "output_type": "display_data"
    },
    {
     "data": {
      "text/latex": [
       "$$H_A=0.2003\\pm 2.44948974278e-05$$"
      ],
      "text/plain": [
       "<IPython.core.display.Math object>"
      ]
     },
     "metadata": {},
     "output_type": "display_data"
    },
    {
     "data": {
      "text/latex": [
       "$$R_A=0.00405\\pm 2.49559612117e-05$$"
      ],
      "text/plain": [
       "<IPython.core.display.Math object>"
      ]
     },
     "metadata": {},
     "output_type": "display_data"
    },
    {
     "name": "stdout",
     "output_type": "stream",
     "text": [
      "Absoluter Fehler:\n"
     ]
    },
    {
     "data": {
      "text/latex": [
       "$$\\Delta f=\\frac{1}{6} \\sqrt{\\frac{1}{\\left(H_{A} R_{A}^{2} + H_{k} \\left(R_{a}^{2} - R_{i}^{2}\\right) + 2 R_{S}^{2} R_{i}\\right)^{4}} \\left(4 M^{2} R_{S}^{2} \\Delta R_{S}^{2} \\left(H_{S} \\left(H_{S}^{2} + 6 R_{S}^{2}\\right) \\left(H_{A} R_{A}^{2} + H_{k} \\left(R_{a}^{2} - R_{i}^{2}\\right) + 2 R_{S}^{2} R_{i}\\right) - 2 R_{i} \\left(H_{S} \\left(6 H_{A} R_{A}^{4} + H_{S}^{2} R_{S}^{2} + 3 R_{S}^{4}\\right) + 3.0 H_{k} \\left(R_{a}^{4} - R_{i}^{4}\\right)\\right)\\right)^{2} + M^{2} \\left(4 H_{A}^{2} R_{A}^{2} \\Delta R_{A}^{2} \\left(12 H_{S} R_{A}^{2} \\left(H_{A} R_{A}^{2} + H_{k} \\left(R_{a}^{2} - R_{i}^{2}\\right) + 2 R_{S}^{2} R_{i}\\right) - H_{S} \\left(6 H_{A} R_{A}^{4} + H_{S}^{2} R_{S}^{2} + 3 R_{S}^{4}\\right) - 3.0 H_{k} \\left(R_{a}^{4} - R_{i}^{4}\\right)\\right)^{2} + 4 H_{k}^{2} R_{a}^{2} \\Delta R_{a}^{2} \\left(- H_{S} \\left(6 H_{A} R_{A}^{4} + H_{S}^{2} R_{S}^{2} + 3 R_{S}^{4}\\right) - 3.0 H_{k} \\left(R_{a}^{4} - R_{i}^{4}\\right) + 6.0 R_{a}^{2} \\left(H_{A} R_{A}^{2} + H_{k} \\left(R_{a}^{2} - R_{i}^{2}\\right) + 2 R_{S}^{2} R_{i}\\right)\\right)^{2} + R_{A}^{4} \\Delta H_{A}^{2} \\left(6 H_{S} R_{A}^{2} \\left(H_{A} R_{A}^{2} + H_{k} \\left(R_{a}^{2} - R_{i}^{2}\\right) + 2 R_{S}^{2} R_{i}\\right) - H_{S} \\left(6 H_{A} R_{A}^{4} + H_{S}^{2} R_{S}^{2} + 3 R_{S}^{4}\\right) - 3.0 H_{k} \\left(R_{a}^{4} - R_{i}^{4}\\right)\\right)^{2} + \\Delta H_{k}^{2} \\left(\\left(R_{a}^{2} - R_{i}^{2}\\right) \\left(H_{S} \\left(6 H_{A} R_{A}^{4} + H_{S}^{2} R_{S}^{2} + 3 R_{S}^{4}\\right) + 3.0 H_{k} \\left(R_{a}^{4} - R_{i}^{4}\\right)\\right) - 3.0 \\left(R_{a}^{4} - R_{i}^{4}\\right) \\left(H_{A} R_{A}^{2} + H_{k} \\left(R_{a}^{2} - R_{i}^{2}\\right) + 2 R_{S}^{2} R_{i}\\right)\\right)^{2} + \\Delta R_{i}^{2} \\left(12.0 H_{k} R_{i}^{3} \\left(H_{A} R_{A}^{2} + H_{k} \\left(R_{a}^{2} - R_{i}^{2}\\right) + 2 R_{S}^{2} R_{i}\\right) - 2 \\left(H_{S} \\left(6 H_{A} R_{A}^{4} + H_{S}^{2} R_{S}^{2} + 3 R_{S}^{4}\\right) + 3.0 H_{k} \\left(R_{a}^{4} - R_{i}^{4}\\right)\\right) \\left(H_{k} R_{i} - R_{S}^{2}\\right)\\right)^{2}\\right) + \\left(9 M^{2} \\Delta H_{S}^{2} \\left(2 H_{A} R_{A}^{4} + H_{S}^{2} R_{S}^{2} + R_{S}^{4}\\right)^{2} + \\Delta M^{2} \\left(H_{S} \\left(6 H_{A} R_{A}^{4} + H_{S}^{2} R_{S}^{2} + 3 R_{S}^{4}\\right) + 3.0 H_{k} \\left(R_{a}^{4} - R_{i}^{4}\\right)\\right)^{2}\\right) \\left(H_{A} R_{A}^{2} + H_{k} \\left(R_{a}^{2} - R_{i}^{2}\\right) + 2 R_{S}^{2} R_{i}\\right)^{2}\\right)}$$"
      ],
      "text/plain": [
       "<IPython.core.display.Math object>"
      ]
     },
     "metadata": {},
     "output_type": "display_data"
    },
    {
     "name": "stdout",
     "output_type": "stream",
     "text": [
      "Relativer Fehler:\n"
     ]
    },
    {
     "data": {
      "text/latex": [
       "$$\\Delta f/f=\\sqrt{\\frac{1}{M^{2} \\left(H_{S} \\left(6 H_{A} R_{A}^{4} + H_{S}^{2} R_{S}^{2} + 3 R_{S}^{4}\\right) + 3.0 H_{k} \\left(R_{a}^{4} - R_{i}^{4}\\right)\\right)^{2} \\left(H_{A} R_{A}^{2} + H_{k} \\left(R_{a}^{2} - R_{i}^{2}\\right) + 2 R_{S}^{2} R_{i}\\right)^{2}} \\left(4 M^{2} R_{S}^{2} \\Delta R_{S}^{2} \\left(H_{S} \\left(H_{S}^{2} + 6 R_{S}^{2}\\right) \\left(H_{A} R_{A}^{2} + H_{k} \\left(R_{a}^{2} - R_{i}^{2}\\right) + 2 R_{S}^{2} R_{i}\\right) - 2 R_{i} \\left(H_{S} \\left(6 H_{A} R_{A}^{4} + H_{S}^{2} R_{S}^{2} + 3 R_{S}^{4}\\right) + 3.0 H_{k} \\left(R_{a}^{4} - R_{i}^{4}\\right)\\right)\\right)^{2} + M^{2} \\left(4 H_{A}^{2} R_{A}^{2} \\Delta R_{A}^{2} \\left(12 H_{S} R_{A}^{2} \\left(H_{A} R_{A}^{2} + H_{k} \\left(R_{a}^{2} - R_{i}^{2}\\right) + 2 R_{S}^{2} R_{i}\\right) - H_{S} \\left(6 H_{A} R_{A}^{4} + H_{S}^{2} R_{S}^{2} + 3 R_{S}^{4}\\right) - 3.0 H_{k} \\left(R_{a}^{4} - R_{i}^{4}\\right)\\right)^{2} + 4 H_{k}^{2} R_{a}^{2} \\Delta R_{a}^{2} \\left(- H_{S} \\left(6 H_{A} R_{A}^{4} + H_{S}^{2} R_{S}^{2} + 3 R_{S}^{4}\\right) - 3.0 H_{k} \\left(R_{a}^{4} - R_{i}^{4}\\right) + 6.0 R_{a}^{2} \\left(H_{A} R_{A}^{2} + H_{k} \\left(R_{a}^{2} - R_{i}^{2}\\right) + 2 R_{S}^{2} R_{i}\\right)\\right)^{2} + R_{A}^{4} \\Delta H_{A}^{2} \\left(6 H_{S} R_{A}^{2} \\left(H_{A} R_{A}^{2} + H_{k} \\left(R_{a}^{2} - R_{i}^{2}\\right) + 2 R_{S}^{2} R_{i}\\right) - H_{S} \\left(6 H_{A} R_{A}^{4} + H_{S}^{2} R_{S}^{2} + 3 R_{S}^{4}\\right) - 3.0 H_{k} \\left(R_{a}^{4} - R_{i}^{4}\\right)\\right)^{2} + \\Delta H_{k}^{2} \\left(\\left(R_{a}^{2} - R_{i}^{2}\\right) \\left(H_{S} \\left(6 H_{A} R_{A}^{4} + H_{S}^{2} R_{S}^{2} + 3 R_{S}^{4}\\right) + 3.0 H_{k} \\left(R_{a}^{4} - R_{i}^{4}\\right)\\right) - 3.0 \\left(R_{a}^{4} - R_{i}^{4}\\right) \\left(H_{A} R_{A}^{2} + H_{k} \\left(R_{a}^{2} - R_{i}^{2}\\right) + 2 R_{S}^{2} R_{i}\\right)\\right)^{2} + \\Delta R_{i}^{2} \\left(12.0 H_{k} R_{i}^{3} \\left(H_{A} R_{A}^{2} + H_{k} \\left(R_{a}^{2} - R_{i}^{2}\\right) + 2 R_{S}^{2} R_{i}\\right) - 2 \\left(H_{S} \\left(6 H_{A} R_{A}^{4} + H_{S}^{2} R_{S}^{2} + 3 R_{S}^{4}\\right) + 3.0 H_{k} \\left(R_{a}^{4} - R_{i}^{4}\\right)\\right) \\left(H_{k} R_{i} - R_{S}^{2}\\right)\\right)^{2}\\right) + \\left(9 M^{2} \\Delta H_{S}^{2} \\left(2 H_{A} R_{A}^{4} + H_{S}^{2} R_{S}^{2} + R_{S}^{4}\\right)^{2} + \\Delta M^{2} \\left(H_{S} \\left(6 H_{A} R_{A}^{4} + H_{S}^{2} R_{S}^{2} + 3 R_{S}^{4}\\right) + 3.0 H_{k} \\left(R_{a}^{4} - R_{i}^{4}\\right)\\right)^{2}\\right) \\left(H_{A} R_{A}^{2} + H_{k} \\left(R_{a}^{2} - R_{i}^{2}\\right) + 2 R_{S}^{2} R_{i}\\right)^{2}\\right)}$$"
      ],
      "text/plain": [
       "<IPython.core.display.Math object>"
      ]
     },
     "metadata": {},
     "output_type": "display_data"
    },
    {
     "data": {
      "text/latex": [
       "$$f=   0.00 \\pm   0.00$$"
      ],
      "text/plain": [
       "<IPython.core.display.Math object>"
      ]
     },
     "metadata": {},
     "output_type": "display_data"
    },
    {
     "data": {
      "text/latex": [
       "$$f=   0.00 \\pm    0.2  \\%$$"
      ],
      "text/plain": [
       "<IPython.core.display.Math object>"
      ]
     },
     "metadata": {},
     "output_type": "display_data"
    }
   ],
   "source": [
    "#Latex Darstellungen\n",
    "print('Funktion:')\n",
    "display(Math(\"f=\"+smp.latex(funktion)))\n",
    "\n",
    "print('Messwerte:')\n",
    "for i in range(len(variablen)):\n",
    "    display(Math(str(variablen[i])+'='+ str(variablen_werte[i])+'\\pm '+ str(fehler_werte[i])))  #Messwerte mit Fehler\n",
    "\n",
    "print('Absoluter Fehler:')\n",
    "display(Math(r'\\Delta f='+smp.latex(fehler_abs).replace('d',r'\\Delta ')))   #Formel absoluter Fehler\n",
    "print('Relativer Fehler:')\n",
    "display(Math(r\"\\Delta f/f=\"+smp.latex(fehler_rel).replace('d',r'\\Delta '))) #Formel relativer Fehler\n",
    "display(Math(\"f= %6.2f \\pm %6.2f\" %(funktions_wert,smp.sqrt(err2))))        #Messwert und Wert des absoluten Fehler\n",
    "display(Math(\"f= %6.2f \\pm %6.1f %s\" %(funktions_wert,smp.sqrt(err2)/funktions_wert*100,\" \\%\"))) #dito als relativer Fehler"
   ]
  },
  {
   "cell_type": "code",
   "execution_count": 12,
   "metadata": {
    "scrolled": true
   },
   "outputs": [
    {
     "name": "stdout",
     "output_type": "stream",
     "text": [
      "Funktion:\n"
     ]
    },
    {
     "data": {
      "text/plain": [
       "'V=f=\\\\frac{M \\\\left(2 H_{S} \\\\left(\\\\frac{H_{A} R_{A}^{4}}{2} + \\\\frac{H_{S}^{2} R_{S}^{2}}{12} + \\\\frac{R_{S}^{4}}{4}\\\\right) + 0.5 H_{k} \\\\left(R_{a}^{4} - R_{i}^{4}\\\\right)\\\\right)}{H_{A} R_{A}^{2} + H_{k} \\\\left(R_{a}^{2} - R_{i}^{2}\\\\right) + 2 R_{S}^{2} R_{i}}'"
      ]
     },
     "metadata": {},
     "output_type": "display_data"
    },
    {
     "name": "stdout",
     "output_type": "stream",
     "text": [
      "Messwerte:\n"
     ]
    },
    {
     "data": {
      "text/plain": [
       "'M=0.73204\\\\pm 5.7735026919e-06'"
      ]
     },
     "metadata": {},
     "output_type": "display_data"
    },
    {
     "data": {
      "text/plain": [
       "'H_k=0.01162\\\\pm 4.64706358898e-05'"
      ]
     },
     "metadata": {},
     "output_type": "display_data"
    },
    {
     "data": {
      "text/plain": [
       "'R_a=0.085114\\\\pm 3.43051016614e-05'"
      ]
     },
     "metadata": {},
     "output_type": "display_data"
    },
    {
     "data": {
      "text/plain": [
       "'R_i=0.072714\\\\pm 4.13840549004e-05'"
      ]
     },
     "metadata": {},
     "output_type": "display_data"
    },
    {
     "data": {
      "text/plain": [
       "'H_S=0.072714\\\\pm 4.13840549004e-05'"
      ]
     },
     "metadata": {},
     "output_type": "display_data"
    },
    {
     "data": {
      "text/plain": [
       "'R_S=0.00403\\\\pm 2.5632011236e-05'"
      ]
     },
     "metadata": {},
     "output_type": "display_data"
    },
    {
     "data": {
      "text/plain": [
       "'H_A=0.2003\\\\pm 2.44948974278e-05'"
      ]
     },
     "metadata": {},
     "output_type": "display_data"
    },
    {
     "data": {
      "text/plain": [
       "'R_A=0.00405\\\\pm 2.49559612117e-05'"
      ]
     },
     "metadata": {},
     "output_type": "display_data"
    },
    {
     "name": "stdout",
     "output_type": "stream",
     "text": [
      "Absoluter Fehler:\n"
     ]
    },
    {
     "data": {
      "text/plain": [
       "'\\\\Delta f=\\\\frac{1}{6} \\\\sqrt{\\\\frac{1}{\\\\left(H_{A} R_{A}^{2} + H_{k} \\\\left(R_{a}^{2} - R_{i}^{2}\\\\right) + 2 R_{S}^{2} R_{i}\\\\right)^{4}} \\\\left(4 M^{2} R_{S}^{2} \\\\Delta R_{S}^{2} \\\\left(H_{S} \\\\left(H_{S}^{2} + 6 R_{S}^{2}\\\\right) \\\\left(H_{A} R_{A}^{2} + H_{k} \\\\left(R_{a}^{2} - R_{i}^{2}\\\\right) + 2 R_{S}^{2} R_{i}\\\\right) - 2 R_{i} \\\\left(H_{S} \\\\left(6 H_{A} R_{A}^{4} + H_{S}^{2} R_{S}^{2} + 3 R_{S}^{4}\\\\right) + 3.0 H_{k} \\\\left(R_{a}^{4} - R_{i}^{4}\\\\right)\\\\right)\\\\right)^{2} + M^{2} \\\\left(4 H_{A}^{2} R_{A}^{2} \\\\Delta R_{A}^{2} \\\\left(12 H_{S} R_{A}^{2} \\\\left(H_{A} R_{A}^{2} + H_{k} \\\\left(R_{a}^{2} - R_{i}^{2}\\\\right) + 2 R_{S}^{2} R_{i}\\\\right) - H_{S} \\\\left(6 H_{A} R_{A}^{4} + H_{S}^{2} R_{S}^{2} + 3 R_{S}^{4}\\\\right) - 3.0 H_{k} \\\\left(R_{a}^{4} - R_{i}^{4}\\\\right)\\\\right)^{2} + 4 H_{k}^{2} R_{a}^{2} \\\\Delta R_{a}^{2} \\\\left(- H_{S} \\\\left(6 H_{A} R_{A}^{4} + H_{S}^{2} R_{S}^{2} + 3 R_{S}^{4}\\\\right) - 3.0 H_{k} \\\\left(R_{a}^{4} - R_{i}^{4}\\\\right) + 6.0 R_{a}^{2} \\\\left(H_{A} R_{A}^{2} + H_{k} \\\\left(R_{a}^{2} - R_{i}^{2}\\\\right) + 2 R_{S}^{2} R_{i}\\\\right)\\\\right)^{2} + R_{A}^{4} \\\\Delta H_{A}^{2} \\\\left(6 H_{S} R_{A}^{2} \\\\left(H_{A} R_{A}^{2} + H_{k} \\\\left(R_{a}^{2} - R_{i}^{2}\\\\right) + 2 R_{S}^{2} R_{i}\\\\right) - H_{S} \\\\left(6 H_{A} R_{A}^{4} + H_{S}^{2} R_{S}^{2} + 3 R_{S}^{4}\\\\right) - 3.0 H_{k} \\\\left(R_{a}^{4} - R_{i}^{4}\\\\right)\\\\right)^{2} + \\\\Delta H_{k}^{2} \\\\left(\\\\left(R_{a}^{2} - R_{i}^{2}\\\\right) \\\\left(H_{S} \\\\left(6 H_{A} R_{A}^{4} + H_{S}^{2} R_{S}^{2} + 3 R_{S}^{4}\\\\right) + 3.0 H_{k} \\\\left(R_{a}^{4} - R_{i}^{4}\\\\right)\\\\right) - 3.0 \\\\left(R_{a}^{4} - R_{i}^{4}\\\\right) \\\\left(H_{A} R_{A}^{2} + H_{k} \\\\left(R_{a}^{2} - R_{i}^{2}\\\\right) + 2 R_{S}^{2} R_{i}\\\\right)\\\\right)^{2} + \\\\Delta R_{i}^{2} \\\\left(12.0 H_{k} R_{i}^{3} \\\\left(H_{A} R_{A}^{2} + H_{k} \\\\left(R_{a}^{2} - R_{i}^{2}\\\\right) + 2 R_{S}^{2} R_{i}\\\\right) - 2 \\\\left(H_{S} \\\\left(6 H_{A} R_{A}^{4} + H_{S}^{2} R_{S}^{2} + 3 R_{S}^{4}\\\\right) + 3.0 H_{k} \\\\left(R_{a}^{4} - R_{i}^{4}\\\\right)\\\\right) \\\\left(H_{k} R_{i} - R_{S}^{2}\\\\right)\\\\right)^{2}\\\\right) + \\\\left(9 M^{2} \\\\Delta H_{S}^{2} \\\\left(2 H_{A} R_{A}^{4} + H_{S}^{2} R_{S}^{2} + R_{S}^{4}\\\\right)^{2} + \\\\Delta M^{2} \\\\left(H_{S} \\\\left(6 H_{A} R_{A}^{4} + H_{S}^{2} R_{S}^{2} + 3 R_{S}^{4}\\\\right) + 3.0 H_{k} \\\\left(R_{a}^{4} - R_{i}^{4}\\\\right)\\\\right)^{2}\\\\right) \\\\left(H_{A} R_{A}^{2} + H_{k} \\\\left(R_{a}^{2} - R_{i}^{2}\\\\right) + 2 R_{S}^{2} R_{i}\\\\right)^{2}\\\\right)}'"
      ]
     },
     "metadata": {},
     "output_type": "display_data"
    },
    {
     "name": "stdout",
     "output_type": "stream",
     "text": [
      "Relativer Fehler:\n"
     ]
    },
    {
     "data": {
      "text/plain": [
       "'\\\\Delta f/f=\\\\sqrt{\\\\frac{1}{M^{2} \\\\left(H_{S} \\\\left(6 H_{A} R_{A}^{4} + H_{S}^{2} R_{S}^{2} + 3 R_{S}^{4}\\\\right) + 3.0 H_{k} \\\\left(R_{a}^{4} - R_{i}^{4}\\\\right)\\\\right)^{2} \\\\left(H_{A} R_{A}^{2} + H_{k} \\\\left(R_{a}^{2} - R_{i}^{2}\\\\right) + 2 R_{S}^{2} R_{i}\\\\right)^{2}} \\\\left(4 M^{2} R_{S}^{2} \\\\Delta R_{S}^{2} \\\\left(H_{S} \\\\left(H_{S}^{2} + 6 R_{S}^{2}\\\\right) \\\\left(H_{A} R_{A}^{2} + H_{k} \\\\left(R_{a}^{2} - R_{i}^{2}\\\\right) + 2 R_{S}^{2} R_{i}\\\\right) - 2 R_{i} \\\\left(H_{S} \\\\left(6 H_{A} R_{A}^{4} + H_{S}^{2} R_{S}^{2} + 3 R_{S}^{4}\\\\right) + 3.0 H_{k} \\\\left(R_{a}^{4} - R_{i}^{4}\\\\right)\\\\right)\\\\right)^{2} + M^{2} \\\\left(4 H_{A}^{2} R_{A}^{2} \\\\Delta R_{A}^{2} \\\\left(12 H_{S} R_{A}^{2} \\\\left(H_{A} R_{A}^{2} + H_{k} \\\\left(R_{a}^{2} - R_{i}^{2}\\\\right) + 2 R_{S}^{2} R_{i}\\\\right) - H_{S} \\\\left(6 H_{A} R_{A}^{4} + H_{S}^{2} R_{S}^{2} + 3 R_{S}^{4}\\\\right) - 3.0 H_{k} \\\\left(R_{a}^{4} - R_{i}^{4}\\\\right)\\\\right)^{2} + 4 H_{k}^{2} R_{a}^{2} \\\\Delta R_{a}^{2} \\\\left(- H_{S} \\\\left(6 H_{A} R_{A}^{4} + H_{S}^{2} R_{S}^{2} + 3 R_{S}^{4}\\\\right) - 3.0 H_{k} \\\\left(R_{a}^{4} - R_{i}^{4}\\\\right) + 6.0 R_{a}^{2} \\\\left(H_{A} R_{A}^{2} + H_{k} \\\\left(R_{a}^{2} - R_{i}^{2}\\\\right) + 2 R_{S}^{2} R_{i}\\\\right)\\\\right)^{2} + R_{A}^{4} \\\\Delta H_{A}^{2} \\\\left(6 H_{S} R_{A}^{2} \\\\left(H_{A} R_{A}^{2} + H_{k} \\\\left(R_{a}^{2} - R_{i}^{2}\\\\right) + 2 R_{S}^{2} R_{i}\\\\right) - H_{S} \\\\left(6 H_{A} R_{A}^{4} + H_{S}^{2} R_{S}^{2} + 3 R_{S}^{4}\\\\right) - 3.0 H_{k} \\\\left(R_{a}^{4} - R_{i}^{4}\\\\right)\\\\right)^{2} + \\\\Delta H_{k}^{2} \\\\left(\\\\left(R_{a}^{2} - R_{i}^{2}\\\\right) \\\\left(H_{S} \\\\left(6 H_{A} R_{A}^{4} + H_{S}^{2} R_{S}^{2} + 3 R_{S}^{4}\\\\right) + 3.0 H_{k} \\\\left(R_{a}^{4} - R_{i}^{4}\\\\right)\\\\right) - 3.0 \\\\left(R_{a}^{4} - R_{i}^{4}\\\\right) \\\\left(H_{A} R_{A}^{2} + H_{k} \\\\left(R_{a}^{2} - R_{i}^{2}\\\\right) + 2 R_{S}^{2} R_{i}\\\\right)\\\\right)^{2} + \\\\Delta R_{i}^{2} \\\\left(12.0 H_{k} R_{i}^{3} \\\\left(H_{A} R_{A}^{2} + H_{k} \\\\left(R_{a}^{2} - R_{i}^{2}\\\\right) + 2 R_{S}^{2} R_{i}\\\\right) - 2 \\\\left(H_{S} \\\\left(6 H_{A} R_{A}^{4} + H_{S}^{2} R_{S}^{2} + 3 R_{S}^{4}\\\\right) + 3.0 H_{k} \\\\left(R_{a}^{4} - R_{i}^{4}\\\\right)\\\\right) \\\\left(H_{k} R_{i} - R_{S}^{2}\\\\right)\\\\right)^{2}\\\\right) + \\\\left(9 M^{2} \\\\Delta H_{S}^{2} \\\\left(2 H_{A} R_{A}^{4} + H_{S}^{2} R_{S}^{2} + R_{S}^{4}\\\\right)^{2} + \\\\Delta M^{2} \\\\left(H_{S} \\\\left(6 H_{A} R_{A}^{4} + H_{S}^{2} R_{S}^{2} + 3 R_{S}^{4}\\\\right) + 3.0 H_{k} \\\\left(R_{a}^{4} - R_{i}^{4}\\\\right)\\\\right)^{2}\\\\right) \\\\left(H_{A} R_{A}^{2} + H_{k} \\\\left(R_{a}^{2} - R_{i}^{2}\\\\right) + 2 R_{S}^{2} R_{i}\\\\right)^{2}\\\\right)}'"
      ]
     },
     "metadata": {},
     "output_type": "display_data"
    },
    {
     "data": {
      "text/plain": [
       "'f=   0.00 \\\\pm   0.00'"
      ]
     },
     "metadata": {},
     "output_type": "display_data"
    },
    {
     "data": {
      "text/plain": [
       "'f=   0.00 \\\\pm    0.2  \\\\%'"
      ]
     },
     "execution_count": 12,
     "metadata": {},
     "output_type": "execute_result"
    }
   ],
   "source": [
    "#Latex code\n",
    "print('Funktion:')\n",
    "display(smp.latex(\"V=f=\"+smp.latex(funktion)))\n",
    "\n",
    "print('Messwerte:')\n",
    "for i in range(len(variablen)):\n",
    "    display(smp.latex(str(variablen[i])+'='+ str(variablen_werte[i])+'\\pm '+ str(fehler_werte[i])))  #Messwerte mit Fehler\n",
    "\n",
    "print('Absoluter Fehler:')\n",
    "display(smp.latex(r'\\Delta f='+smp.latex(fehler_abs).replace('d',r'\\Delta ')))   #Formel absoluter Fehler\n",
    "print('Relativer Fehler:')\n",
    "display(smp.latex(r\"\\Delta f/f=\"+smp.latex(fehler_rel).replace('d',r'\\Delta '))) #Formel relativer Fehler\n",
    "display(smp.latex(\"f= %6.2f \\pm %6.2f\" %(funktions_wert,smp.sqrt(err2))))        #Messwert und Wert des absoluten Fehler\n",
    "smp.latex(smp.latex(\"f= %6.2f \\pm %6.1f %s\" %(funktions_wert,smp.sqrt(err2)/funktions_wert*100,\" \\%\"))) #dito als relativer Fehler\n",
    "#der code ist noch nicht ganz so toll es muss noch \\\\->\\ und $$"
   ]
  },
  {
   "cell_type": "code",
   "execution_count": 55,
   "metadata": {},
   "outputs": [
    {
     "data": {
      "text/plain": [
       "'np.sqrt((4*M**2*R_S**2*uR_S**2*(H_S*(H_S**2 + 6*R_S**2)*(H_A*R_A**2 + H_k*(R_a**2 - R_i**2) + 2*R_S**2*R_i) - 2*R_i*(H_S*(6*H_A*R_A**4 + H_S**2*R_S**2 + 3*R_S**4) + 3.0*H_k*(R_a**4 - R_i**4)))**2 + M**2*(4*H_A**2*R_A**2*uR_A**2*(12*H_S*R_A**2*(H_A*R_A**2 + H_k*(R_a**2 - R_i**2) + 2*R_S**2*R_i) - H_S*(6*H_A*R_A**4 + H_S**2*R_S**2 + 3*R_S**4) - 3.0*H_k*(R_a**4 - R_i**4))**2 + 4*H_k**2*R_a**2*uR_a**2*(-H_S*(6*H_A*R_A**4 + H_S**2*R_S**2 + 3*R_S**4) - 3.0*H_k*(R_a**4 - R_i**4) + 6.0*R_a**2*(H_A*R_A**2 + H_k*(R_a**2 - R_i**2) + 2*R_S**2*R_i))**2 + R_A**4*uH_A**2*(6*H_S*R_A**2*(H_A*R_A**2 + H_k*(R_a**2 - R_i**2) + 2*R_S**2*R_i) - H_S*(6*H_A*R_A**4 + H_S**2*R_S**2 + 3*R_S**4) - 3.0*H_k*(R_a**4 - R_i**4))**2 + uH_k**2*((R_a**2 - R_i**2)*(H_S*(6*H_A*R_A**4 + H_S**2*R_S**2 + 3*R_S**4) + 3.0*H_k*(R_a**4 - R_i**4)) - 3.0*(R_a**4 - R_i**4)*(H_A*R_A**2 + H_k*(R_a**2 - R_i**2) + 2*R_S**2*R_i))**2 + uR_i**2*(12.0*H_k*R_i**3*(H_A*R_A**2 + H_k*(R_a**2 - R_i**2) + 2*R_S**2*R_i) - 2*(H_S*(6*H_A*R_A**4 + H_S**2*R_S**2 + 3*R_S**4) + 3.0*H_k*(R_a**4 - R_i**4))*(H_k*R_i - R_S**2))**2) + (9*M**2*uH_S**2*(2*H_A*R_A**4 + H_S**2*R_S**2 + R_S**4)**2 + uM**2*(H_S*(6*H_A*R_A**4 + H_S**2*R_S**2 + 3*R_S**4) + 3.0*H_k*(R_a**4 - R_i**4))**2)*(H_A*R_A**2 + H_k*(R_a**2 - R_i**2) + 2*R_S**2*R_i)**2)/(H_A*R_A**2 + H_k*(R_a**2 - R_i**2) + 2*R_S**2*R_i)**4)/6'"
      ]
     },
     "execution_count": 55,
     "metadata": {},
     "output_type": "execute_result"
    }
   ],
   "source": [
    "\n",
    "uJ='np.sqrt((4*M**2*R_S**2*dR_S**2*(H_S*(H_S**2 + 6*R_S**2)*(H_A*R_A**2 + H_k*(R_a**2 - R_i**2) + 2*R_S**2*R_i) - 2*R_i*(H_S*(6*H_A*R_A**4 + H_S**2*R_S**2 + 3*R_S**4) + 3.0*H_k*(R_a**4 - R_i**4)))**2 + M**2*(4*H_A**2*R_A**2*dR_A**2*(12*H_S*R_A**2*(H_A*R_A**2 + H_k*(R_a**2 - R_i**2) + 2*R_S**2*R_i) - H_S*(6*H_A*R_A**4 + H_S**2*R_S**2 + 3*R_S**4) - 3.0*H_k*(R_a**4 - R_i**4))**2 + 4*H_k**2*R_a**2*dR_a**2*(-H_S*(6*H_A*R_A**4 + H_S**2*R_S**2 + 3*R_S**4) - 3.0*H_k*(R_a**4 - R_i**4) + 6.0*R_a**2*(H_A*R_A**2 + H_k*(R_a**2 - R_i**2) + 2*R_S**2*R_i))**2 + R_A**4*dH_A**2*(6*H_S*R_A**2*(H_A*R_A**2 + H_k*(R_a**2 - R_i**2) + 2*R_S**2*R_i) - H_S*(6*H_A*R_A**4 + H_S**2*R_S**2 + 3*R_S**4) - 3.0*H_k*(R_a**4 - R_i**4))**2 + dH_k**2*((R_a**2 - R_i**2)*(H_S*(6*H_A*R_A**4 + H_S**2*R_S**2 + 3*R_S**4) + 3.0*H_k*(R_a**4 - R_i**4)) - 3.0*(R_a**4 - R_i**4)*(H_A*R_A**2 + H_k*(R_a**2 - R_i**2) + 2*R_S**2*R_i))**2 + dR_i**2*(12.0*H_k*R_i**3*(H_A*R_A**2 + H_k*(R_a**2 - R_i**2) + 2*R_S**2*R_i) - 2*(H_S*(6*H_A*R_A**4 + H_S**2*R_S**2 + 3*R_S**4) + 3.0*H_k*(R_a**4 - R_i**4))*(H_k*R_i - R_S**2))**2) + (9*M**2*dH_S**2*(2*H_A*R_A**4 + H_S**2*R_S**2 + R_S**4)**2 + dM**2*(H_S*(6*H_A*R_A**4 + H_S**2*R_S**2 + 3*R_S**4) + 3.0*H_k*(R_a**4 - R_i**4))**2)*(H_A*R_A**2 + H_k*(R_a**2 - R_i**2) + 2*R_S**2*R_i)**2)/(H_A*R_A**2 + H_k*(R_a**2 - R_i**2) + 2*R_S**2*R_i)**4)/6'\n",
    "uJ.replace('d','u')\n"
   ]
  },
  {
   "cell_type": "code",
   "execution_count": 56,
   "metadata": {},
   "outputs": [
    {
     "data": {
      "text/plain": [
       "(7.9777952473575914e-06, 7.81887695944736e-06)"
      ]
     },
     "execution_count": 56,
     "metadata": {},
     "output_type": "execute_result"
    }
   ],
   "source": [
    "uJ=np.sqrt((4*M**2*R_S**2*uR_S**2*(H_S*(H_S**2 + 6*R_S**2)*(H_A*R_A**2 + H_k*(R_a**2 - R_i**2) + 2*R_S**2*R_i) - 2*R_i*(H_S*(6*H_A*R_A**4 + H_S**2*R_S**2 + 3*R_S**4) + 3.0*H_k*(R_a**4 - R_i**4)))**2 + M**2*(4*H_A**2*R_A**2*uR_A**2*(12*H_S*R_A**2*(H_A*R_A**2 + H_k*(R_a**2 - R_i**2) + 2*R_S**2*R_i) - H_S*(6*H_A*R_A**4 + H_S**2*R_S**2 + 3*R_S**4) - 3.0*H_k*(R_a**4 - R_i**4))**2 + 4*H_k**2*R_a**2*uR_a**2*(-H_S*(6*H_A*R_A**4 + H_S**2*R_S**2 + 3*R_S**4) - 3.0*H_k*(R_a**4 - R_i**4) + 6.0*R_a**2*(H_A*R_A**2 + H_k*(R_a**2 - R_i**2) + 2*R_S**2*R_i))**2 + R_A**4*uH_A**2*(6*H_S*R_A**2*(H_A*R_A**2 + H_k*(R_a**2 - R_i**2) + 2*R_S**2*R_i) - H_S*(6*H_A*R_A**4 + H_S**2*R_S**2 + 3*R_S**4) - 3.0*H_k*(R_a**4 - R_i**4))**2 + uH_k**2*((R_a**2 - R_i**2)*(H_S*(6*H_A*R_A**4 + H_S**2*R_S**2 + 3*R_S**4) + 3.0*H_k*(R_a**4 - R_i**4)) - 3.0*(R_a**4 - R_i**4)*(H_A*R_A**2 + H_k*(R_a**2 - R_i**2) + 2*R_S**2*R_i))**2 + uR_i**2*(12.0*H_k*R_i**3*(H_A*R_A**2 + H_k*(R_a**2 - R_i**2) + 2*R_S**2*R_i) - 2*(H_S*(6*H_A*R_A**4 + H_S**2*R_S**2 + 3*R_S**4) + 3.0*H_k*(R_a**4 - R_i**4))*(H_k*R_i - R_S**2))**2) + (9*M**2*uH_S**2*(2*H_A*R_A**4 + H_S**2*R_S**2 + R_S**4)**2 + uM**2*(H_S*(6*H_A*R_A**4 + H_S**2*R_S**2 + 3*R_S**4) + 3.0*H_k*(R_a**4 - R_i**4))**2)*(H_A*R_A**2 + H_k*(R_a**2 - R_i**2) + 2*R_S**2*R_i)**2)/(H_A*R_A**2 + H_k*(R_a**2 - R_i**2) + 2*R_S**2*R_i)**4)/6\n",
    "uJ,7.8188769594473602e-06"
   ]
  },
  {
   "cell_type": "code",
   "execution_count": 57,
   "metadata": {},
   "outputs": [
    {
     "data": {
      "text/plain": [
       "0.0037015804223111274"
      ]
     },
     "execution_count": 57,
     "metadata": {},
     "output_type": "execute_result"
    }
   ],
   "source": [
    "J=M/(H_k*(R_a**2-R_i**2)+2*R_i*R_S**2+H_A*R_A**2)*\\\n",
    "(0.5*H_k*(R_a**4-R_i**4)+2*H_S*(H_S**2*R_S**2/12+R_S**4/4+H_A*R_A**4/2))\n",
    "J"
   ]
  },
  {
   "cell_type": "code",
   "execution_count": 58,
   "metadata": {},
   "outputs": [
    {
     "data": {
      "text/plain": [
       "(0.0021552402858173096,\n",
       " 0.21552402858173095,\n",
       " (0.002112307735452509, 0.21123077354525094))"
      ]
     },
     "execution_count": 58,
     "metadata": {},
     "output_type": "execute_result"
    }
   ],
   "source": [
    "uJ/J, uJ*100/J,(0.0021123077354525091, 0.21123077354525094)"
   ]
  },
  {
   "cell_type": "code",
   "execution_count": 59,
   "metadata": {},
   "outputs": [
    {
     "data": {
      "text/plain": [
       "8208.1194606252866"
      ]
     },
     "execution_count": 59,
     "metadata": {},
     "output_type": "execute_result"
    }
   ],
   "source": [
    "#Kontrolle Dichte\n",
    "rho=M/(H_k*np.pi*(R_a**2-R_i**2)+2*R_i*np.pi*R_S**2+H_A*np.pi*R_A**2)\n",
    "rho"
   ]
  },
  {
   "cell_type": "code",
   "execution_count": 60,
   "metadata": {},
   "outputs": [
    {
     "data": {
      "text/plain": [
       "0.04070596952542814"
      ]
     },
     "execution_count": 60,
     "metadata": {},
     "output_type": "execute_result"
    }
   ],
   "source": [
    "#Vergleich dichte Eisen\n",
    "(rho-7874)/rho "
   ]
  },
  {
   "cell_type": "code",
   "execution_count": 61,
   "metadata": {
    "collapsed": true
   },
   "outputs": [],
   "source": [
    "#Radienvergleich c kopiert aus anderem notebook\n",
    "c=0.020482267595833874\n",
    "uc=0.00093070450146481875\n",
    "g=9.81"
   ]
  },
  {
   "cell_type": "code",
   "execution_count": 62,
   "metadata": {},
   "outputs": [
    {
     "data": {
      "text/plain": [
       "(0.0046047320243258307,\n",
       " 0.00010517423846911241,\n",
       " (0.004604732024325831, 0.00010516962121265645))"
      ]
     },
     "execution_count": 62,
     "metadata": {},
     "output_type": "execute_result"
    }
   ],
   "source": [
    "R1=np.sqrt(2*c*J/(M*(g-2*c)))\n",
    "uR1=np.sqrt(((uM*c*J)/(np.sqrt(2)*(-2*c+g)*np.sqrt((c*J)/((-2*c+g)*M))*M**2))**2\\\n",
    "+(uJ*c/(np.sqrt(2)*(-2*c+g)*np.sqrt((J*c)/((-2*c+g)*M))*M))**2+(uc*g*np.sqrt(J*c)*(np.sqrt(2*g*M-4*M*c)*c*(g-2*c))**(-1))**2)\n",
    "#uR1=R1*np.sqrt((uM/(2*M))**2+(uJ/(2*J)**2)+(uc/c)**2) #Funktioniert aber falsch?\n",
    "R1,uR1,(0.0046047320243258307, 0.00010516962121265645)"
   ]
  },
  {
   "cell_type": "code",
   "execution_count": 65,
   "metadata": {},
   "outputs": [
    {
     "data": {
      "text/plain": [
       "(0.00050000000000000001,\n",
       " 2.4955961211702512e-05,\n",
       " 0.0045500000000000002,\n",
       " 4.2422164018352775e-05)"
      ]
     },
     "execution_count": 65,
     "metadata": {},
     "output_type": "execute_result"
    }
   ],
   "source": [
    "#Faden:\n",
    "R_Froh=0.5*10**(-3)*np.array([0.98,1.02,0.98,1.02,1.00])\n",
    "R_F=np.mean(R_Froh)\n",
    "uR_F=np.sqrt((1e-3*0.06/np.sqrt(6))**2+tp*np.dot(R_Froh-R_F,R_Froh-R_F)/(len(R_Froh)*(len(R_Froh)-1)))\n",
    "#Radius gemessen\n",
    "R2=R_A+R_F\n",
    "uR2=np.sqrt(uR_a**2+uR_F**2)\n",
    "R_F,uR_F,R2,uR2#(0.00050000000000000001, 2.4899799195977473e-05, 0.0045500000000000002, 4.1545156155682233e-05)"
   ]
  },
  {
   "cell_type": "code",
   "execution_count": 3,
   "metadata": {},
   "outputs": [
    {
     "data": {
      "text/plain": [
       "0.024494897427831785"
      ]
     },
     "execution_count": 3,
     "metadata": {},
     "output_type": "execute_result"
    }
   ],
   "source": [
    "uD1=np.sqrt((1e-3*0.06/np.sqrt(6))**2)\n",
    "uD1*1000"
   ]
  },
  {
   "cell_type": "code",
   "execution_count": null,
   "metadata": {
    "collapsed": true
   },
   "outputs": [],
   "source": []
  }
 ],
 "metadata": {
  "kernelspec": {
   "display_name": "Python 3",
   "language": "python",
   "name": "python3"
  },
  "language_info": {
   "codemirror_mode": {
    "name": "ipython",
    "version": 3
   },
   "file_extension": ".py",
   "mimetype": "text/x-python",
   "name": "python",
   "nbconvert_exporter": "python",
   "pygments_lexer": "ipython3",
   "version": "3.6.3"
  }
 },
 "nbformat": 4,
 "nbformat_minor": 2
}
