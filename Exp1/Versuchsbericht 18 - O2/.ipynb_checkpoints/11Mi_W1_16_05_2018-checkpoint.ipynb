{
 "cells": [
  {
   "cell_type": "code",
   "execution_count": 2,
   "metadata": {
    "collapsed": true
   },
   "outputs": [],
   "source": [
    "# Importanweisungen\n",
    "\n",
    "import numpy as num\n",
    "import scipy as sci\n",
    "import sympy as sym\n",
    "import matplotlib.pyplot as plt\n",
    "import matplotlib\n",
    "import matplotlib.axes as axes\n",
    "import math\n",
    "from scipy import optimize\n",
    "import uncertainties as unc\n",
    "import uncertainties.unumpy as unp \n",
    "import uncertainties.umath as umath\n",
    "unv=unp.nominal_values\n",
    "usd=unp.std_devs"
   ]
  },
  {
   "cell_type": "code",
   "execution_count": 3,
   "metadata": {
    "collapsed": true
   },
   "outputs": [],
   "source": [
    "# Konstanten fuer einheitliche Darstellung\n",
    "\n",
    "fig_size = (10, 6)\n",
    "fig_legendsize = 14\n",
    "fig_labelsize = 12"
   ]
  },
  {
   "cell_type": "code",
   "execution_count": 4,
   "metadata": {
    "collapsed": true
   },
   "outputs": [],
   "source": [
    "# allgemeine Fitfunktionen\n",
    "\n",
    "def linear(x,m): # lineare Funktion mit f(x) = m * x \n",
    "    return(m*x)\n",
    "\n",
    "def gerade(x, m, b): # gerade mit = f(x) = m * x + b\n",
    "    return (m*x + b)\n",
    "\n",
    "def cyclic(x, a, f, phi):\n",
    "    return a * num.sin(x * f - phi)\n",
    "\n",
    "def cyclicOff(x, a, f, phi, offset):\n",
    "    return cyclic(x, a, f, phi) + offset\n",
    "\n",
    "# fittet ein dataset mit gegebenen x und y werten, eine funktion und ggf. anfangswerten und y-Fehler\n",
    "# gibt die passenden parameter der funktion, sowie dessen unsicherheiten zurueck\n",
    "#\n",
    "# https://stackoverflow.com/questions/14581358/getting-standard-errors-on-fitted-parameters-using-the-optimize-leastsq-method-i#\n",
    "# Updated on 4/6/2016\n",
    "# User: https://stackoverflow.com/users/1476240/pedro-m-duarte\n",
    "def fit_curvefit(datax, datay, function, p0=None, yerr=None, **kwargs):\n",
    "\n",
    "    pfit, pcov = \\\n",
    "         optimize.curve_fit(function,datax,datay,p0=p0,\\\n",
    "                            sigma=yerr, epsfcn=0.0001, **kwargs)\n",
    "    error = [] \n",
    "    for i in range(len(pfit)):\n",
    "        try:\n",
    "          error.append(num.absolute(pcov[i][i])**0.5)\n",
    "        except:\n",
    "          error.append( 0.00 )\n",
    "    pfit_curvefit = pfit\n",
    "    perr_curvefit = num.array(error)\n",
    "    return pfit_curvefit, perr_curvefit \n",
    "\n",
    "# usage zB:\n",
    "# pfit, perr = fit_curvefit(unv(xdata), unv(ydata), gerade, yerr = usd(ydata), p0 = [1, 0])\n",
    "# fuer eine gerade mit anfangswerten m = 1, b = 0"
   ]
  },
  {
   "cell_type": "code",
   "execution_count": 11,
   "metadata": {
    "collapsed": true
   },
   "outputs": [],
   "source": [
    "# gibt Daten fuer LaTeX bereitgestellt aus\n",
    "\n",
    "def latex_printValue(val, file):\n",
    "    f = open('data/%s.txt' % file, 'w')\n",
    "    f.write(str(val).replace('/', ''))"
   ]
  },
  {
   "cell_type": "code",
   "execution_count": 6,
   "metadata": {
    "collapsed": true
   },
   "outputs": [],
   "source": [
    "# weitere Werte, Konstanten\n",
    "# Werte von https://physics.nist.gov/cuu/Constants/index.html[0]\n",
    "\n",
    "c = 299792458 # m/s\n",
    "k_B = unc.ufloat_fromstr(\"1.38064852(79)e-23\") # J K-1 [0]\n",
    "h = unc.ufloat_fromstr(\"4.135667662(25)e-15\") # eV s [0]\n",
    "r_e = unc.ufloat_fromstr(\"2.8179403227(19)e-15\") # m [0]\n",
    "R = unc.ufloat_fromstr(\"8.3144598(48)\") # J mol-1 K-1 [0]\n",
    "K = 273.15 # kelvin \n",
    "g = 9.81 # m/s^2"
   ]
  },
  {
   "cell_type": "code",
   "execution_count": 21,
   "metadata": {},
   "outputs": [
    {
     "data": {
      "text/plain": [
       "0.4335"
      ]
     },
     "execution_count": 21,
     "metadata": {},
     "output_type": "execute_result"
    }
   ],
   "source": [
    "# import der messwerte\n",
    "\n",
    "unc_h = 2 / 2 / num.sqrt(6) # Grid auf Boden; analog in cm\n",
    "unc_x = 0.1 / 2 / num.sqrt(6) # Messleiste; analog in cm\n",
    "unc_grad = 1 / 2 / num.sqrt(6) # Winkelmeter; analog in grad\n",
    "unc_lambda = 1 / 2 / num.sqrt(3) # Angabe in der Anleitung; digital in nm\n",
    "\n",
    "con = {}\n",
    "for i in range(0,50):\n",
    "    con[i] = lambda s: float(s if len(s) > 0 else 0)\n",
    "\n",
    "#data = num.loadtxt(\"messung/profil.csv\", skiprows = 2, delimiter = \",\", converters = con)\n",
    "#profil1 = unp.umatrix(unp.uarray(data[:,0], unc_t10), unp.uarray(data[:, 1], unc_temp)) # erste Spalte Zeit, zweite Spalte Temperatur Werte\n",
    "#warm = unp.umatrix(unp.uarray(data[:,2], unc_t10), unp.uarray(data[:, 3], unc_temp)) # dritte Spalte Zeit, vierte Spalte Temperatur"
   ]
  },
  {
   "cell_type": "code",
   "execution_count": 22,
   "metadata": {
    "collapsed": true
   },
   "outputs": [],
   "source": [
    "# Rechnung prisma\n"
   ]
  },
  {
   "cell_type": "code",
   "execution_count": 9,
   "metadata": {
    "collapsed": true
   },
   "outputs": [],
   "source": [
    "# Diagramm Strahlprofil\n",
    "\n",
    "fig=plt.figure(figsize=fig_size)\n",
    "\n",
    "\n",
    "xdata, ydata = messung[0]\n",
    "plt.plot(unv(xdata),unv(ydata), linewidth=1, label='Messlinie')\n",
    "\n",
    "xdata, ydata = kalt[:, 0::196]\n",
    "plt.errorbar(unv(xdata),unv(ydata),usd(ydata),usd(xdata),fmt=' ', capsize=5, linewidth=1, label='Unsicherheiten')\n",
    "\n",
    "xdata, ydata = num.transpose(list(filter(lambda s: s[1] >= 10 and s[1] <= 30, num.transpose(kalt))))\n",
    "pfit, perr = fit_curvefit(unv(xdata), unv(ydata), gerade, yerr = usd(ydata), p0 = [-0.1, 30])\n",
    "p = unp.uarray(pfit, perr)\n",
    "dT_kalt = p[0]\n",
    "latex_printValue(dT_kalt, \"dT_raumtemp_Ks-1\")\n",
    "plt.plot(unv(xdata), gerade(unv(xdata), *pfit), label='Fit bei Raumtemperatur:\\nm = %s' % (p[0]))\n",
    "\n",
    "xdata, ydata = num.transpose(list(filter(lambda s: s[0] >= 550 and s[0] <= 630, num.transpose(kalt))))\n",
    "pfit, perr = fit_curvefit(unv(xdata), unv(ydata), gerade, yerr = usd(ydata), p0 = [-0.1, 30])\n",
    "p = unp.uarray(pfit, perr)\n",
    "dT_frier = p[0]\n",
    "T0_frier = p[1]\n",
    "plt.plot(num.arange(450, 700), gerade(num.arange(450, 700), *pfit), label='Fit nach Vereisen:\\nm = %s\\ny0 = %s' % tuple(p))\n",
    "\n",
    "# plt.xlim(400,401)\n",
    "plt.legend(prop={'size':fig_legendsize})\n",
    "plt.grid()\n",
    "plt.tick_params(labelsize=fig_labelsize)\n",
    "plt.xlabel(\"Zeit $t$ [$s$]\", {'fontsize':fig_legendsize+2})\n",
    "plt.ylabel(\"Temperatur der Probe $T$ [$°C$]\", {'fontsize': fig_legendsize+2})\n",
    "plt.savefig(\"data/kalt_machen.pdf\")\n",
    "plt.show()\n"
   ]
  },
  {
   "cell_type": "code",
   "execution_count": 10,
   "metadata": {
    "collapsed": true
   },
   "outputs": [],
   "source": [
    "# Rechnung Fokuspunkte\n"
   ]
  },
  {
   "cell_type": "code",
   "execution_count": 13,
   "metadata": {},
   "outputs": [
    {
     "data": {
      "text/plain": [
       "1.89735+/-0.199384692894"
      ]
     },
     "execution_count": 13,
     "metadata": {},
     "output_type": "execute_result"
    }
   ],
   "source": [
    "a = unc.ufloat(1.89735,0.1993846928940)\n",
    "b = unc.ufloat(2,0.3)\n",
    "latex_printValue(a,\"niceValue\")\n",
    "a\n",
    "#umath.atan(a*b), math.atan(unv(a)*unv(b)), math.sqrt((unv(b)/(1+unv(a)*unv(b))**2 * usd(a))**2 + (unv(a)/(1+unv(a)*unv(b))**2 * usd(b))**2)"
   ]
  },
  {
   "cell_type": "code",
   "execution_count": null,
   "metadata": {
    "collapsed": true
   },
   "outputs": [],
   "source": []
  }
 ],
 "metadata": {
  "kernelspec": {
   "display_name": "Python 3",
   "language": "python",
   "name": "python3"
  },
  "language_info": {
   "codemirror_mode": {
    "name": "ipython",
    "version": 3
   },
   "file_extension": ".py",
   "mimetype": "text/x-python",
   "name": "python",
   "nbconvert_exporter": "python",
   "pygments_lexer": "ipython3",
   "version": "3.6.3"
  }
 },
 "nbformat": 4,
 "nbformat_minor": 2
}
