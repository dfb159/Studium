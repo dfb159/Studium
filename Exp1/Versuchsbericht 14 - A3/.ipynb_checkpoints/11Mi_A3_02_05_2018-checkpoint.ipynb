{
 "cells": [
  {
   "cell_type": "code",
   "execution_count": 1,
   "metadata": {
    "collapsed": true
   },
   "outputs": [],
   "source": [
    "# Importanweisungen\n",
    "\n",
    "import numpy as num\n",
    "import scipy as sci\n",
    "import sympy as sym\n",
    "import matplotlib.pyplot as plt\n",
    "import matplotlib\n",
    "import matplotlib.axes as axes\n",
    "import math\n",
    "from scipy import optimize\n",
    "import uncertainties as uc\n",
    "import uncertainties.unumpy as unp \n",
    "unv=unp.nominal_values\n",
    "usd=unp.std_devs"
   ]
  },
  {
   "cell_type": "code",
   "execution_count": 2,
   "metadata": {
    "collapsed": true
   },
   "outputs": [],
   "source": [
    "# Konstanten fuer einheitliche Darstellung\n",
    "\n",
    "fig_size = (10, 6)\n",
    "fig_legendsize = 14\n",
    "fig_labelsize = 12"
   ]
  },
  {
   "cell_type": "code",
   "execution_count": 3,
   "metadata": {
    "collapsed": true
   },
   "outputs": [],
   "source": [
    "# allgemeine Fitfunktionen\n",
    "\n",
    "def linear(x,m): # lineare Funktion mit f(x) = m * x \n",
    "    return(m*x)\n",
    "\n",
    "def gerade(x, m, b): # gerade mit = f(x) = m * x + b\n",
    "    return (m*x + b)\n",
    "\n",
    "# fittet ein dataset mit gegebenen x und y werten, eine funktion und ggf. anfangswerten und y-Fehler\n",
    "# gibt die passenden parameter der funktion, sowie dessen unsicherheiten zurueck\n",
    "#\n",
    "# https://stackoverflow.com/questions/14581358/getting-standard-errors-on-fitted-parameters-using-the-optimize-leastsq-method-i#\n",
    "# Updated on 4/6/2016\n",
    "# User: https://stackoverflow.com/users/1476240/pedro-m-duarte\n",
    "def fit_curvefit(datax, datay, function, p0=None, yerr=None, **kwargs):\n",
    "\n",
    "    pfit, pcov = \\\n",
    "         optimize.curve_fit(function,datax,datay,p0=p0,\\\n",
    "                            sigma=yerr, epsfcn=0.0001, **kwargs)\n",
    "    error = [] \n",
    "    for i in range(len(pfit)):\n",
    "        try:\n",
    "          error.append(num.absolute(pcov[i][i])**0.5)\n",
    "        except:\n",
    "          error.append( 0.00 )\n",
    "    pfit_curvefit = pfit\n",
    "    perr_curvefit = num.array(error)\n",
    "    return pfit_curvefit, perr_curvefit \n",
    "\n",
    "# usage zB:\n",
    "# pfit, perr = fit_curvefit(unv(xdata), unv(ydata), gerade, yerr = usd(ydata), p0 = [1, 0])\n",
    "# fuer eine gerade mit anfangswerten m = 1, b = 0"
   ]
  },
  {
   "cell_type": "code",
   "execution_count": 4,
   "metadata": {
    "collapsed": true
   },
   "outputs": [],
   "source": [
    "# gibt Daten fuer LaTeX bereitgestellt aus\n",
    "\n",
    "def latex_printValue(val, file):\n",
    "    f = open('data/%s.txt' % file, 'w')\n",
    "    f.write(str(val).replace('/', ''))"
   ]
  },
  {
   "cell_type": "code",
   "execution_count": 5,
   "metadata": {
    "collapsed": true
   },
   "outputs": [],
   "source": [
    "# import der messwerte\n",
    "\n",
    "unc_U = 25/num.sqrt(6) # analog in V\n",
    "unc_t = 1/num.sqrt(3) # digital in s\n",
    "unc_d = 0.05/num.sqrt(6) # analog in mm\n",
    "\n",
    "data = num.loadtxt(\"messung/charakteristik.txt\", comments = \"#\", delimiter = \"\\t\", unpack=False)\n",
    "U1 = unp.uarray(data[:,0], unc_t) # erste spalte Spannung in V\n",
    "N1 = data[:,2] # dritte Spalte Zaehlung in 1\n",
    "T1 = unp.uarray(data[:,1], unc_t) # zweite Spalte Zeit der Messung in s\n",
    "\n",
    "data = num.loadtxt(\"messung/hintergrundLow.txt\", comments = \"#\", delimiter = \"\\t\", unpack = False)\n",
    "N_HL = data[:,0] # Ereignisse pro Messung\n",
    "T_HL = unp.uarray(data[:,1], unc_t) # Messdauer\n",
    "\n",
    "data = num.loadtxt(\"messung/hintergrundHigh.txt\", comments = \"#\", delimiter = \"\\t\", unpack = False)\n",
    "N_HH = data[:,0] # Ereignisse pro Messung\n",
    "T_HH = unp.uarray(data[:,1], unc_t) # Messdauer\n",
    "\n",
    "data = num.loadtxt(\"messung/betaAluminium.txt\", comments = \"#\", delimiter = \"\\t\", unpack = False)\n",
    "N_betaAlu = data[:,0] # erste Spalte Zaehlung\n",
    "d_betaAlu = unp.uarray(data[:,1], data[:,2]) # zweite Spalte dicke mit dritte Spalte unsicherheit in mm\n",
    "T_betaAlu = unp.uarray(data[:,3], unc_t) # vierte Spalte Zitmessung\n",
    "\n",
    "data = num.loadtxt(\"messung/gammaBlei.txt\", comments = '#', delimiter = \"\\t\", unpack = False)\n",
    "N_gammaBlei = data[:,0] # erste Spalte Zaehlung\n",
    "d_gammaBlei = unp.uarray(data[:,1], unc_d) # zweite Spalte BleiDicke in mm\n",
    "T_gammaBlei = unp.uarray(data[:,2], unc_t) # dritte Spalte Zeit fuer eine Messung\n",
    "\n",
    "N_gummi = 652\n",
    "T_gummi = uc.ufloat(178, unc_t)\n",
    "d_gummi = uc.ufloat(2, unc_d)\n",
    "\n",
    "N_plexi = 650\n",
    "T_plexi = uc.ufloat(506, unc_t)\n",
    "d_plexi = uc.ufloat(4.05, unc_d)"
   ]
  },
  {
   "cell_type": "code",
   "execution_count": 6,
   "metadata": {
    "collapsed": true
   },
   "outputs": [],
   "source": [
    "# weitere Werte\n",
    "# Werte von https://physics.nist.gov/cuu/Constants/index.html[0]\n",
    "# Dichte Blei von http://www.periodensystem.info/elemente/blei/\n",
    "# Dichte Alu von http://www.periodensystem.info/elemente/aluminium\n",
    "# Dichte Gummi und Plexiglas von https://de.wikibooks.org/wiki/Tabellensammlung_Chemie/_Dichte_fester_Stoffe\n",
    "\n",
    "c = 299792458 # m/s\n",
    "k_B = uc.ufloat_fromstr(\"1.38064852(79)e-23\") # J K-1 [0]\n",
    "h = uc.ufloat_fromstr(\"4.135667662(25)e-15\") # eV s [0]\n",
    "r_e = uc.ufloat_fromstr(\"2.8179403227(19)e-15\") # m [0]\n",
    "R = uc.ufloat_fromstr(\"8.3144598(48)\") # J mol-1 K-1 [0]\n",
    "rho_Blei = 11.342 # g cm-3 = kg dm-3 = kg/l\n",
    "rho_Alu = 2.698 # g cm-3 = kg dm-3 = kg/l\n",
    "rho_Gummi = 0.930 # same\n",
    "rho_Plexi = 1.19 # same"
   ]
  },
  {
   "cell_type": "code",
   "execution_count": 7,
   "metadata": {
    "collapsed": true
   },
   "outputs": [],
   "source": [
    "# Rechnung\n",
    "\n",
    "# Hintergrund\n",
    "z_HH = N_HH / T_HH\n",
    "k_HH = num.sum(z_HH) / len(z_HH)\n",
    "\n",
    "sigma = (z_HH - k_HH)**2\n",
    "sigma = unp.sqrt(sum(sigma) / len(z_HH))\n",
    "\n",
    "# Gamma Blei\n",
    "z_Blei = N_gammaBlei / T_gammaBlei\n",
    "lnBlei = unp.log(z_Blei - k_HH)\n",
    "\n",
    "# Beta Alu\n",
    "HL_hist = num.histogram(unv(N_HL), bins = 9)\n",
    "HH_hist = num.histogram(unv(N_HH), bins = 9)\n",
    "\n",
    "lnAlu = unp.log(N_betaAlu / T_betaAlu - k_HH)\n",
    "\n",
    "latex_printValue(k_HH, \"bckgndMittelwert\")\n",
    "latex_printValue(sigma, \"bckgndSigma\")"
   ]
  },
  {
   "cell_type": "code",
   "execution_count": 8,
   "metadata": {},
   "outputs": [
    {
     "ename": "NameError",
     "evalue": "name 'z1' is not defined",
     "output_type": "error",
     "traceback": [
      "\u001b[1;31m---------------------------------------------------------------------------\u001b[0m",
      "\u001b[1;31mNameError\u001b[0m                                 Traceback (most recent call last)",
      "\u001b[1;32m<ipython-input-8-91caa2134ebb>\u001b[0m in \u001b[0;36m<module>\u001b[1;34m()\u001b[0m\n\u001b[0;32m      8\u001b[0m \u001b[1;31m# p = unp.uarray(pfit, perr)\u001b[0m\u001b[1;33m\u001b[0m\u001b[1;33m\u001b[0m\u001b[0m\n\u001b[0;32m      9\u001b[0m \u001b[1;33m\u001b[0m\u001b[0m\n\u001b[1;32m---> 10\u001b[1;33m \u001b[0mplt\u001b[0m\u001b[1;33m.\u001b[0m\u001b[0merrorbar\u001b[0m\u001b[1;33m(\u001b[0m\u001b[0munv\u001b[0m\u001b[1;33m(\u001b[0m\u001b[0mU1\u001b[0m\u001b[1;33m)\u001b[0m\u001b[1;33m,\u001b[0m\u001b[0munv\u001b[0m\u001b[1;33m(\u001b[0m\u001b[0mz1\u001b[0m\u001b[1;33m)\u001b[0m\u001b[1;33m,\u001b[0m\u001b[0musd\u001b[0m\u001b[1;33m(\u001b[0m\u001b[0mz1\u001b[0m\u001b[1;33m)\u001b[0m\u001b[1;33m,\u001b[0m\u001b[0musd\u001b[0m\u001b[1;33m(\u001b[0m\u001b[0mU1\u001b[0m\u001b[1;33m)\u001b[0m\u001b[1;33m,\u001b[0m\u001b[0mfmt\u001b[0m\u001b[1;33m=\u001b[0m\u001b[1;34m':'\u001b[0m\u001b[1;33m,\u001b[0m \u001b[0mcapsize\u001b[0m\u001b[1;33m=\u001b[0m\u001b[1;36m5\u001b[0m\u001b[1;33m,\u001b[0m \u001b[0mlinewidth\u001b[0m\u001b[1;33m=\u001b[0m\u001b[1;36m1\u001b[0m\u001b[1;33m,\u001b[0m \u001b[0mlabel\u001b[0m\u001b[1;33m=\u001b[0m\u001b[1;34m'Messpunkte'\u001b[0m\u001b[1;33m)\u001b[0m\u001b[1;33m\u001b[0m\u001b[0m\n\u001b[0m\u001b[0;32m     11\u001b[0m \u001b[1;33m\u001b[0m\u001b[0m\n\u001b[0;32m     12\u001b[0m \u001b[1;31m#plt.xlim(0,1200)\u001b[0m\u001b[1;33m\u001b[0m\u001b[1;33m\u001b[0m\u001b[0m\n",
      "\u001b[1;31mNameError\u001b[0m: name 'z1' is not defined"
     ]
    }
   ],
   "source": [
    "# diagramm 1: Charakteristik Zaehlrohr\n",
    "\n",
    "fig=plt.figure(figsize=fig_size)\n",
    "\n",
    "# kein Fit!\n",
    "# p0 = None # startwerte, wenn unsicher: p0 = None\n",
    "# pfit, perr = fit_curvefit(unv(sqrth), unv(a), gerade, yerr = usd(a))\n",
    "# p = unp.uarray(pfit, perr)\n",
    "\n",
    "plt.errorbar(unv(U1),unv(z1),usd(z1),usd(U1),fmt=':', capsize=5, linewidth=1, label='Messpunkte')\n",
    "\n",
    "#plt.xlim(0,1200)\n",
    "plt.legend(prop={'size':fig_legendsize})\n",
    "plt.grid()\n",
    "plt.tick_params(labelsize=fig_labelsize)\n",
    "plt.xlabel(\"Betriebsspannung $U_B$ [$V$]\", {'fontsize':fig_legendsize+2})\n",
    "plt.ylabel(\"Zählrate $N/T$ [$1/s$]\", {'fontsize': fig_legendsize+2})\n",
    "plt.savefig(\"data/CharakteristikZaehlrohr.pdf\")\n",
    "plt.show()"
   ]
  },
  {
   "cell_type": "code",
   "execution_count": null,
   "metadata": {
    "collapsed": true
   },
   "outputs": [],
   "source": []
  },
  {
   "cell_type": "code",
   "execution_count": null,
   "metadata": {},
   "outputs": [],
   "source": [
    "# diagramm: Gamma Absorption\n",
    "fig=plt.figure(figsize=fig_size)\n",
    "\n",
    "pfit, perr = fit_curvefit(unv(d_gammaBlei), unv(lnBlei), gerade, yerr = usd(lnBlei), p0 = [-1, 2])\n",
    "p = unp.uarray(pfit, perr)\n",
    "\n",
    "latex_printValue(-p[0]*10, \"absorptionBlei_cm-1\")\n",
    "latex_printValue(-p[0]*10/rho_Blei, \"absorptionMasseBlei_cm2g-1\")\n",
    "\n",
    "plt.errorbar(unv(d_gammaBlei),unv(lnBlei),usd(lnBlei),usd(d_gammaBlei),fmt=':', capsize=5, linewidth=1, label='Absorption Blei')\n",
    "plt.plot(unv(d_gammaBlei), gerade(unv(d_gammaBlei), *pfit), label='Linearer Fit:\\nm = %s\\ny0 = %s' % tuple(p))\n",
    "\n",
    "#plt.xlim(0,1200)\n",
    "plt.legend(prop={'size':fig_legendsize})\n",
    "plt.grid()\n",
    "plt.tick_params(labelsize=fig_labelsize)\n",
    "plt.xlabel(\"Absorberdicke $\\Delta x$ [$mm$]\", {'fontsize':fig_legendsize+2})\n",
    "plt.ylabel(\"Zählrate $N/T$ [$1/s$]\", {'fontsize': fig_legendsize+2})\n",
    "plt.savefig(\"data/GammaAbsorber.pdf\")\n",
    "plt.show()"
   ]
  },
  {
   "cell_type": "code",
   "execution_count": null,
   "metadata": {},
   "outputs": [],
   "source": [
    "# diagramm: Gamma Absorption\n",
    "fig=plt.figure(figsize=fig_size)\n",
    "\n",
    "# erster Fit\n",
    "p1 = list(filter((lambda x: x[0] > 0.25 and x[0] < 0.75), num.transpose([d_betaAlu,lnAlu])))\n",
    "x, y = num.transpose(p1)\n",
    "pfit, perr = fit_curvefit(unv(x), unv(y), gerade, yerr = usd(y), p0 = [-1, 2])\n",
    "p = unp.uarray(pfit, perr)\n",
    "absorbAlu1 = p[0]\n",
    "absorbAlu01 = p[1]\n",
    "\n",
    "latex_printValue(-p[0]*10, \"absorptionAlu1_cm-1\")\n",
    "latex_printValue(-p[0]*10/rho_Alu, \"absorptionMasseAlu1_cm2g-1\")\n",
    "\n",
    "plt.plot(unv(d_betaAlu), gerade(unv(d_betaAlu), *pfit), label='Linearer Fit:\\nm = %s\\ny0 = %s' % tuple(p))\n",
    "\n",
    "# zweiter Fit\n",
    "p1 = list(filter((lambda x: x[0] > 0.6), num.transpose([d_betaAlu,lnAlu])))\n",
    "x, y = num.transpose(p1)\n",
    "pfit, perr = fit_curvefit(unv(x), unv(y), gerade, yerr = usd(y), p0 = [-1, 2])\n",
    "p = unp.uarray(pfit, perr)\n",
    "absorbAlu2 = p[0]\n",
    "absorbAlu02 = p[1]\n",
    "\n",
    "absAlu = [absorbAlu1, absorbAlu2]\n",
    "absAlu0 = [absorbAlu01, absorbAlu02]\n",
    "\n",
    "latex_printValue(-p[0]*10, \"absorptionAlu2_cm-1\")\n",
    "latex_printValue(-p[0]*10/rho_Alu, \"absorptionMasseAlu2_cm2g-1\")\n",
    "\n",
    "plt.plot(unv(d_betaAlu), gerade(unv(d_betaAlu), *pfit), label='Linearer Fit:\\nm = %s\\ny0 = %s' % tuple(p))\n",
    "\n",
    "# Messwerte\n",
    "plt.errorbar(unv(d_betaAlu),unv(lnAlu),usd(lnAlu),usd(d_betaAlu),fmt=':', capsize=5, linewidth=1, label='Absorption Aluminium')\n",
    "\n",
    "#plt.xlim(0,1200)\n",
    "plt.legend(prop={'size':fig_legendsize})\n",
    "plt.grid()\n",
    "plt.tick_params(labelsize=fig_labelsize)\n",
    "plt.xlabel(\"Absorberdicke $\\Delta x$ [$mm$]\", {'fontsize':fig_legendsize+2})\n",
    "plt.ylabel(\"Zählrate $N/T$ [$1/s$]\", {'fontsize': fig_legendsize+2})\n",
    "plt.savefig(\"data/BetaAbsorber.pdf\")\n",
    "plt.show()"
   ]
  },
  {
   "cell_type": "code",
   "execution_count": null,
   "metadata": {
    "collapsed": true
   },
   "outputs": [],
   "source": [
    "# Rechnung Gummi, Plexiglas\n",
    "\n",
    "a = N_gummi/T_gummi\n",
    "# Gummi\n",
    "b_gummi1 = unp.log(absorbAlu01/a) / d_gummi\n",
    "b_gummi2 = unp.log(absorbAlu02/a) / d_gummi\n",
    "latex_printValue(-b_gummi1*10, \"absorptionGummi1_cm-1\")\n",
    "latex_printValue(-b_gummi1*10/rho_Gummi, \"absorptionMasseGummi1_cm2g-1\")\n",
    "latex_printValue(-b_gummi2*10, \"absorptionGummi2_cm-1\")\n",
    "latex_printValue(-b_gummi2*10/rho_Gummi, \"absorptionMasseGummi2_cm2g-1\")\n",
    "\n",
    "a = N_plexi/T_plexi\n",
    "# Plexiglas\n",
    "b_plexi1 = unp.log(absorbAlu01/a) / d_plexi\n",
    "b_plexi2 = unp.log(absorbAlu02/a) / d_plexi\n",
    "latex_printValue(-b_plexi1*10, \"absorptionPlexi1_cm-1\")\n",
    "latex_printValue(-b_plexi1*10/rho_Gummi, \"absorptionMassePlexi1_cm2g-1\")\n",
    "latex_printValue(-b_plexi2*10, \"absorptionPlexi2_cm-1\")\n",
    "latex_printValue(-b_plexi2*10/rho_Gummi, \"absorptionMassePlexi2_cm2g-1\")"
   ]
  },
  {
   "cell_type": "code",
   "execution_count": null,
   "metadata": {
    "collapsed": true
   },
   "outputs": [],
   "source": [
    "# diagramm: Gummi und Plexi Diagramm\n",
    "fig=plt.figure(figsize=fig_size)\n",
    "\n",
    "x = num.linspace(-15,15,100)\n",
    "y1 = absorbAlu01 * unp.exp(b_gummi1 * x)\n",
    "y2 = absorbAlu01 * unp.exp(b_plexi1 * x)\n",
    "plt.plot(x, y1, linewidth=1, label='Gummi')\n",
    "plt.plot(x, y2, linewidth=1, label='Plexiglas')\n",
    "\n",
    "#plt.xlim(0,1200)\n",
    "plt.legend(prop={'size':fig_legendsize})\n",
    "plt.grid()\n",
    "plt.tick_params(labelsize=fig_labelsize)\n",
    "plt.xlabel(\"Absorberdicke $\\Delta x$ [$mm$]\", {'fontsize':fig_legendsize+2})\n",
    "plt.ylabel(\"Zählrate $N/T$ [$1/s$]\", {'fontsize': fig_legendsize+2})\n",
    "plt.savefig(\"data/GummiPlexiAbsorber1.pdf\")\n",
    "plt.show()"
   ]
  },
  {
   "cell_type": "code",
   "execution_count": null,
   "metadata": {
    "collapsed": true
   },
   "outputs": [],
   "source": []
  }
 ],
 "metadata": {
  "kernelspec": {
   "display_name": "Python 3",
   "language": "python",
   "name": "python3"
  },
  "language_info": {
   "codemirror_mode": {
    "name": "ipython",
    "version": 3
   },
   "file_extension": ".py",
   "mimetype": "text/x-python",
   "name": "python",
   "nbconvert_exporter": "python",
   "pygments_lexer": "ipython3",
   "version": "3.6.3"
  }
 },
 "nbformat": 4,
 "nbformat_minor": 2
}
