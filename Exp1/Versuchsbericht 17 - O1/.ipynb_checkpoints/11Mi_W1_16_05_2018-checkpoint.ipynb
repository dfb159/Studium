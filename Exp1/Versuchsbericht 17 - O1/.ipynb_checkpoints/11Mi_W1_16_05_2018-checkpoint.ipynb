{
 "cells": [
  {
   "cell_type": "code",
   "execution_count": 2,
   "metadata": {
    "collapsed": true
   },
   "outputs": [],
   "source": [
    "# Importanweisungen\n",
    "\n",
    "import numpy as num\n",
    "import scipy as sci\n",
    "import sympy as sym\n",
    "import matplotlib.pyplot as plt\n",
    "import matplotlib\n",
    "import matplotlib.axes as axes\n",
    "import math\n",
    "from scipy import optimize\n",
    "import uncertainties as unc\n",
    "import uncertainties.unumpy as unp \n",
    "import uncertainties.umath as umath\n",
    "unv=unp.nominal_values\n",
    "usd=unp.std_devs"
   ]
  },
  {
   "cell_type": "code",
   "execution_count": 3,
   "metadata": {
    "collapsed": true
   },
   "outputs": [],
   "source": [
    "# Konstanten fuer einheitliche Darstellung\n",
    "\n",
    "fig_size = (10, 6)\n",
    "fig_legendsize = 14\n",
    "fig_labelsize = 12"
   ]
  },
  {
   "cell_type": "code",
   "execution_count": 4,
   "metadata": {
    "collapsed": true
   },
   "outputs": [],
   "source": [
    "# allgemeine Fitfunktionen\n",
    "\n",
    "def linear(x,m): # lineare Funktion mit f(x) = m * x \n",
    "    return(m*x)\n",
    "\n",
    "def gerade(x, m, b): # gerade mit = f(x) = m * x + b\n",
    "    return (m*x + b)\n",
    "\n",
    "def cyclic(x, a, f, phi):\n",
    "    return a * num.sin(x * f - phi)\n",
    "\n",
    "def cyclicOff(x, a, f, phi, offset):\n",
    "    return cyclic(x, a, f, phi) + offset\n",
    "\n",
    "# fittet ein dataset mit gegebenen x und y werten, eine funktion und ggf. anfangswerten und y-Fehler\n",
    "# gibt die passenden parameter der funktion, sowie dessen unsicherheiten zurueck\n",
    "#\n",
    "# https://stackoverflow.com/questions/14581358/getting-standard-errors-on-fitted-parameters-using-the-optimize-leastsq-method-i#\n",
    "# Updated on 4/6/2016\n",
    "# User: https://stackoverflow.com/users/1476240/pedro-m-duarte\n",
    "def fit_curvefit(datax, datay, function, p0=None, yerr=None, **kwargs):\n",
    "\n",
    "    pfit, pcov = \\\n",
    "         optimize.curve_fit(function,datax,datay,p0=p0,\\\n",
    "                            sigma=yerr, epsfcn=0.0001, **kwargs)\n",
    "    error = [] \n",
    "    for i in range(len(pfit)):\n",
    "        try:\n",
    "          error.append(num.absolute(pcov[i][i])**0.5)\n",
    "        except:\n",
    "          error.append( 0.00 )\n",
    "    pfit_curvefit = pfit\n",
    "    perr_curvefit = num.array(error)\n",
    "    return pfit_curvefit, perr_curvefit \n",
    "\n",
    "# usage zB:\n",
    "# pfit, perr = fit_curvefit(unv(xdata), unv(ydata), gerade, yerr = usd(ydata), p0 = [1, 0])\n",
    "# fuer eine gerade mit anfangswerten m = 1, b = 0"
   ]
  },
  {
   "cell_type": "code",
   "execution_count": 5,
   "metadata": {
    "collapsed": true
   },
   "outputs": [],
   "source": [
    "# gibt Daten fuer LaTeX bereitgestellt aus\n",
    "\n",
    "def latex_printValue(val, file):\n",
    "    f = open('data/%s.txt' % file, 'w')\n",
    "    f.write(str(val).replace('/', ''))"
   ]
  },
  {
   "cell_type": "code",
   "execution_count": 6,
   "metadata": {
    "collapsed": true
   },
   "outputs": [],
   "source": [
    "# weitere Werte, Konstanten\n",
    "# Werte von https://physics.nist.gov/cuu/Constants/index.html[0]\n",
    "# air refraction index von https://emtoolbox.nist.gov/Wavelength/Documentation.asp[1]\n",
    "# water/flintglas refraction index von https://en.wikipedia.org/wiki/List_of_refractive_indices[2]\n",
    "\n",
    "c = 299792458 # m/s\n",
    "k_B = unc.ufloat_fromstr(\"1.38064852(79)e-23\") # J K-1 [0]\n",
    "h = unc.ufloat_fromstr(\"4.135667662(25)e-15\") # eV s [0]\n",
    "r_e = unc.ufloat_fromstr(\"2.8179403227(19)e-15\") # m [0]\n",
    "R = unc.ufloat_fromstr(\"8.3144598(48)\") # J mol-1 K-1 [0]\n",
    "K = 273.15 # kelvin \n",
    "g = 9.81 # m/s^2\n",
    "n_air = 1.000271800 # 1 [1]\n",
    "n_water = 1.330 # 1 [2]"
   ]
  },
  {
   "cell_type": "code",
   "execution_count": 7,
   "metadata": {
    "collapsed": true
   },
   "outputs": [],
   "source": [
    "# import der messwerte\n",
    "\n",
    "unc_h = 2 / 2 / num.sqrt(6) # Grid auf Boden; analog in cm\n",
    "unc_x = 0.1 / 2 / num.sqrt(6) # Messleiste; analog in cm\n",
    "unc_grad = 1 / 2 / num.sqrt(6) # Winkelmeter; analog in grad\n",
    "unc_lambda = 1 / 2 / num.sqrt(3) # Angabe in der Anleitung; digital in nm\n",
    "\n",
    "lambda_blau = unc.ufloat(405, unc_lambda) # nm\n",
    "lambda_rot = unc.ufloat(650, unc_lambda) # nm\n",
    "h_prisma = unc.ufloat(10, unc_h) # cm\n",
    "x_blau = unc.ufloat(11.0, unc_x) # cm\n",
    "x_rot = unc.ufloat(12.2, unc_x) # cm\n",
    "\n",
    "luft_blau = unc.ufloat(15, unc_grad) * 2 * math.pi / 360 # radiands\n",
    "wasser_blau = unc.ufloat(11, unc_grad) * 2 * math.pi / 360 # radiands\n",
    "luft_rot = unc.ufloat(24, unc_grad) * 2 * math.pi / 360 # radiands\n",
    "wasser_rot = unc.ufloat(18, unc_grad) * 2 * math.pi / 360 # radiands\n",
    "\n",
    "f_konvex = unc.ufloat(12, unc_h) # cm\n",
    "df = unc.ufloat(5, unc_h) # cm\n",
    "\n",
    "alpha = 60 * 2 * math.pi / 360"
   ]
  },
  {
   "cell_type": "code",
   "execution_count": 8,
   "metadata": {
    "collapsed": true
   },
   "outputs": [],
   "source": [
    "# Rechnung prisma\n",
    "\n",
    "phi_blau = umath.atan(h_prisma / x_blau)\n",
    "phi_rot = umath.atan(h_prisma / x_rot)\n",
    "n_blau = umath.sin((phi_blau + alpha) / 2) / umath.sin(alpha / 2)\n",
    "n_rot = umath.sin((phi_rot + alpha) / 2) / umath.sin(alpha / 2)\n",
    "n_blau, n_rot\n",
    "\n",
    "latex_printValue(phi_blau, \"phi_prisma_blau\")\n",
    "latex_printValue(phi_rot, \"phi_prisma_rot\")\n",
    "latex_printValue(n_blau, \"n_prisma_blau\")\n",
    "latex_printValue(n_rot, \"n_prisma_rot\")"
   ]
  },
  {
   "cell_type": "code",
   "execution_count": 9,
   "metadata": {
    "collapsed": true
   },
   "outputs": [],
   "source": [
    "# Rechnung gitter\n",
    "\n",
    "# max1: sin phi1 n1 = sin phi2 n2 <=> n2 = sin phi1 / sin phi2 n1\n",
    "n2_blau = n_air * umath.sin(luft_blau) / umath.sin(wasser_blau)\n",
    "n2_rot = n_air * umath.sin(luft_rot) / umath.sin(wasser_rot)\n",
    "\n",
    "latex_printValue(n2_blau, \"n_water_blau\")\n",
    "latex_printValue(n2_rot, \"n_water_rot\")"
   ]
  },
  {
   "cell_type": "code",
   "execution_count": 10,
   "metadata": {
    "collapsed": true
   },
   "outputs": [],
   "source": [
    "# Rechnung Fokuspunkte\n",
    "\n",
    "f_konkav = f_konvex - df\n",
    "\n",
    "latex_printValue(f_konvex, \"f_konvex\")\n",
    "latex_printValue(f_konkav, \"f_konkav\")"
   ]
  },
  {
   "cell_type": "code",
   "execution_count": null,
   "metadata": {
    "collapsed": true
   },
   "outputs": [],
   "source": []
  }
 ],
 "metadata": {
  "kernelspec": {
   "display_name": "Python 3",
   "language": "python",
   "name": "python3"
  },
  "language_info": {
   "codemirror_mode": {
    "name": "ipython",
    "version": 3
   },
   "file_extension": ".py",
   "mimetype": "text/x-python",
   "name": "python",
   "nbconvert_exporter": "python",
   "pygments_lexer": "ipython3",
   "version": "3.6.3"
  }
 },
 "nbformat": 4,
 "nbformat_minor": 2
}
