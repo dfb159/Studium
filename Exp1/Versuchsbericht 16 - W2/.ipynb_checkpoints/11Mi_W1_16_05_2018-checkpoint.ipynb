{
 "cells": [
  {
   "cell_type": "code",
   "execution_count": 3,
   "metadata": {
    "collapsed": true
   },
   "outputs": [],
   "source": [
    "# Importanweisungen\n",
    "\n",
    "import numpy as num\n",
    "import scipy as sci\n",
    "import sympy as sym\n",
    "import matplotlib.pyplot as plt\n",
    "import matplotlib\n",
    "import matplotlib.axes as axes\n",
    "import math\n",
    "from scipy import optimize\n",
    "import uncertainties as unc\n",
    "import uncertainties.unumpy as unp \n",
    "unv=unp.nominal_values\n",
    "usd=unp.std_devs"
   ]
  },
  {
   "cell_type": "code",
   "execution_count": 4,
   "metadata": {
    "collapsed": true
   },
   "outputs": [],
   "source": [
    "# Konstanten fuer einheitliche Darstellung\n",
    "\n",
    "fig_size = (10, 6)\n",
    "fig_legendsize = 14\n",
    "fig_labelsize = 12"
   ]
  },
  {
   "cell_type": "code",
   "execution_count": 5,
   "metadata": {
    "collapsed": true
   },
   "outputs": [],
   "source": [
    "# allgemeine Fitfunktionen\n",
    "\n",
    "def linear(x,m): # lineare Funktion mit f(x) = m * x \n",
    "    return(m*x)\n",
    "\n",
    "def gerade(x, m, b): # gerade mit = f(x) = m * x + b\n",
    "    return (m*x + b)\n",
    "\n",
    "def cyclic(x, a, f, phi):\n",
    "    return a * num.sin(x * f - phi)\n",
    "\n",
    "def cyclicOff(x, a, f, phi, offset):\n",
    "    return cyclic(x, a, f, phi) + offset\n",
    "\n",
    "# fittet ein dataset mit gegebenen x und y werten, eine funktion und ggf. anfangswerten und y-Fehler\n",
    "# gibt die passenden parameter der funktion, sowie dessen unsicherheiten zurueck\n",
    "#\n",
    "# https://stackoverflow.com/questions/14581358/getting-standard-errors-on-fitted-parameters-using-the-optimize-leastsq-method-i#\n",
    "# Updated on 4/6/2016\n",
    "# User: https://stackoverflow.com/users/1476240/pedro-m-duarte\n",
    "def fit_curvefit(datax, datay, function, p0=None, yerr=None, **kwargs):\n",
    "\n",
    "    pfit, pcov = \\\n",
    "         optimize.curve_fit(function,datax,datay,p0=p0,\\\n",
    "                            sigma=yerr, epsfcn=0.0001, **kwargs)\n",
    "    error = [] \n",
    "    for i in range(len(pfit)):\n",
    "        try:\n",
    "          error.append(num.absolute(pcov[i][i])**0.5)\n",
    "        except:\n",
    "          error.append( 0.00 )\n",
    "    pfit_curvefit = pfit\n",
    "    perr_curvefit = num.array(error)\n",
    "    return pfit_curvefit, perr_curvefit \n",
    "\n",
    "# usage zB:\n",
    "# pfit, perr = fit_curvefit(unv(xdata), unv(ydata), gerade, yerr = usd(ydata), p0 = [1, 0])\n",
    "# fuer eine gerade mit anfangswerten m = 1, b = 0"
   ]
  },
  {
   "cell_type": "code",
   "execution_count": 6,
   "metadata": {
    "collapsed": true
   },
   "outputs": [],
   "source": [
    "# gibt Daten fuer LaTeX bereitgestellt aus\n",
    "\n",
    "def latex_printValue(val, file):\n",
    "    f = open('data/%s.txt' % file, 'w')\n",
    "    f.write(str(val).replace('/', ''))"
   ]
  },
  {
   "cell_type": "code",
   "execution_count": 7,
   "metadata": {
    "collapsed": true
   },
   "outputs": [],
   "source": [
    "# weitere Werte, Konstanten\n",
    "# Werte von https://physics.nist.gov/cuu/Constants/index.html[0]\n",
    "# Wasser eigenschaften: https://webbook.nist.gov/cgi/inchi/InChI%3D1S/H2O/h1H2\n",
    "# https://www.engineeringtoolbox.com/water-thermal-properties-d_162.html\n",
    "\n",
    "c = 299792458 # m/s\n",
    "k_B = unc.ufloat_fromstr(\"1.38064852(79)e-23\") # J K-1 [0]\n",
    "h = unc.ufloat_fromstr(\"4.135667662(25)e-15\") # eV s [0]\n",
    "r_e = unc.ufloat_fromstr(\"2.8179403227(19)e-15\") # m [0]\n",
    "R = unc.ufloat_fromstr(\"8.3144598(48)\") # J mol-1 K-1 [0]\n",
    "K = 273.15 # kelvin "
   ]
  },
  {
   "cell_type": "code",
   "execution_count": 121,
   "metadata": {},
   "outputs": [],
   "source": [
    "# import der messwerte\n",
    "\n",
    "unc_d = 0.05 / num.sqrt(6) # analog in m\n",
    "unc_tReact = 0.1 / num.sqrt(6) # analog in s\n",
    "unc_tUhr = 0.1 / num.sqrt(3) # digital in s\n",
    "unc_t = num.sqrt(unc_tReact**2 + unc_tUhr**2) # s\n",
    "unc_h = 0.1/ num.sqrt(6) # analog in cm\n",
    "unc_waage = 0.1 / num.sqrt(3) # digital in g\n",
    "unc_druck = 0.1 / num.sqrt(6) # analog in mb\n",
    "unc_V = 10 / num.sqrt(6) # analog in cm3\n",
    "\n",
    "h0 = unc.ufloat(40.5, unc_h) # ruhehoehe in cm\n",
    "h1 = unc.ufloat(40.3, unc_h) # ruhehoehe geraet 1\n",
    "\n",
    "con = {}\n",
    "for i in range(0,50):\n",
    "    con[i] = lambda s: float(s if len(s) > 0 else 0)\n",
    "\n",
    "data = num.loadtxt(\"messung/schwingungLuft.txt\", skiprows = 1, usecols = (0, 1), delimiter = \"\\t\", converters = con)\n",
    "luft = num.array([unp.uarray(data[:,0], unc_d), unp.uarray(data[:,1], unc_t)]) # erste Spalte spaltdicke, zweite spalte zeit fuer 100 schwingungen\n",
    "\n",
    "data = num.loadtxt(\"messung/schwingungArgon.txt\", skiprows = 1, usecols = (0, 1), delimiter = \"\\t\", converters = con)\n",
    "argon = num.array([unp.uarray(data[:,0], unc_d), unp.uarray(data[:,1], unc_t)]) # erste Spalte spaltdicke, zweite spalte zeit fuer 100 schwingungen\n",
    "\n",
    "data = num.loadtxt(\"messung/schwingungCO2.txt\", skiprows = 1, usecols = (0, 1), delimiter = \"\\t\", converters = con)\n",
    "co2 = num.array([unp.uarray(data[:,0], unc_d), unp.uarray(data[:,1], unc_t)]) # erste Spalte spaltdicke, zweite spalte zeit fuer 100 schwingungen\n",
    "\n",
    "data = num.loadtxt(\"messung/pumpe1.txt\", skiprows = 1, usecols = (0, 1), delimiter = \"\\t\", converters = con)\n",
    "pumpe1 = unp.umatrix(data, unc_h) # erste Spalte hoehe1, zweite spalte hoehe3\n",
    "\n",
    "data = num.loadtxt(\"messung/pumpe2.txt\", skiprows = 1, usecols = (0, 1), delimiter = \"\\t\", converters = con)\n",
    "pumpe2 = unp.umatrix(data, unc_h) # erste Spalte hoehe1, zweite spalte hoehe3\n",
    "\n",
    "data = num.loadtxt(\"messung/pumpe3.txt\", skiprows = 1, usecols = (0, 1), delimiter = \"\\t\", converters = con)\n",
    "pumpe3 = unp.umatrix(data, unc_h) # erste Spalte hoehe1, zweite spalte hoehe3\n",
    "\n",
    "d = unc.ufloat(15.90,unc_d)/10 # durchmesser in cm\n",
    "h_rohr = unc.ufloat(18.00, unc_h) # hoehe rohr bis schlitz in cm\n",
    "V0 = unc.ufloat(5450, unc_V) # volumen flasche in cm3\n",
    "m = unc.ufloat(7.28, unc_waage) # gewicht schwingkörper in g\n",
    "p0 = unc.ufloat(1008.7, unc_druck) # aussendruck in mb = 100 Pa = 1000 g/cm/s2"
   ]
  },
  {
   "cell_type": "code",
   "execution_count": 122,
   "metadata": {},
   "outputs": [
    {
     "data": {
      "image/png": "[encoded data removed]",
      "text/plain": [
       "<matplotlib.figure.Figure at 0x2c7bc762048>"
      ]
     },
     "metadata": {},
     "output_type": "display_data"
    }
   ],
   "source": [
    "# diagramm: gase mit y-achsenabschnitt\n",
    "\n",
    "fig=plt.figure(figsize=fig_size)\n",
    "\n",
    "xdata, ydata = luft\n",
    "pfit, perr = fit_curvefit(unv(xdata), unv(ydata), gerade, yerr = usd(ydata), p0 = [0, 50])\n",
    "p = unp.uarray(pfit, perr)\n",
    "plot = plt.plot(unv(xdata), gerade(unv(xdata), *pfit))\n",
    "plt.setp(plot, color='tab:blue')\n",
    "T_luft = p[1] # achsenabschnitt speichern\n",
    "plot = plt.errorbar(unv(xdata),unv(ydata),usd(ydata),usd(xdata),fmt=' ', capsize=5, linewidth=1, label='Luft (T = %s)' % (T_luft))\n",
    "plt.setp(plot, color='tab:blue')\n",
    "\n",
    "xdata, ydata = argon\n",
    "pfit, perr = fit_curvefit(unv(xdata), unv(ydata), gerade, yerr = usd(ydata), p0 = [0, 50])\n",
    "p = unp.uarray(pfit, perr)\n",
    "plot = plt.plot(unv(xdata), gerade(unv(xdata), *pfit))\n",
    "plt.setp(plot, color='tab:orange')\n",
    "T_argon = p[1] # achsenabschnitt speichern\n",
    "plot = plt.errorbar(unv(xdata),unv(ydata),usd(ydata),usd(xdata),fmt=' ', capsize=5, linewidth=1, label='Argon (T = %s)' % (T_argon))\n",
    "plt.setp(plot, color='tab:orange')\n",
    "\n",
    "xdata, ydata = co2\n",
    "pfit, perr = fit_curvefit(unv(xdata), unv(ydata), gerade, yerr = usd(ydata), p0 = [0, 50])\n",
    "p = unp.uarray(pfit, perr)\n",
    "plot = plt.plot(unv(xdata), gerade(unv(xdata), *pfit))\n",
    "plt.setp(plot, color='tab:green')\n",
    "T_co2 = p[1] # achsenabschnitt speichern\n",
    "plot = plt.errorbar(unv(xdata),unv(ydata),usd(ydata),usd(xdata),fmt=' ', capsize=5, linewidth=1, label='CO2 (T = %s)' % (T_co2))\n",
    "plt.setp(plot, color='tab:green')\n",
    "\n",
    "# plt.xlim(0,3)\n",
    "plt.legend(prop={'size':fig_legendsize})\n",
    "plt.grid()\n",
    "plt.tick_params(labelsize=fig_labelsize)\n",
    "plt.xlabel(\"Spaltdicke $d$ [$mm$]\", {'fontsize':fig_legendsize+2})\n",
    "plt.ylabel(\"Zeit für 100 Schwingungen $T$ [$s$]\", {'fontsize': fig_legendsize+2})\n",
    "plt.savefig(\"data/linearisierungen.pdf\")\n",
    "plt.show()"
   ]
  },
  {
   "cell_type": "code",
   "execution_count": 128,
   "metadata": {},
   "outputs": [],
   "source": [
    "# Rechnung Rueckhard Flamersfeld\n",
    "\n",
    "r = d/2\n",
    "A = math.pi * r**2\n",
    "V = V0 + A * h_rohr\n",
    "T = num.array([T_luft, T_argon, T_co2])\n",
    "\n",
    "k_s = 4 * math.pi**2 * m * V / p0 / A**2 / (T/100)**2 / 1000 # m[g], V[cm3], p0[mb], A2[cm4], T2[s2]\n",
    "# [k] = 1/mb * g / cm s2 = 1/1000 \n",
    "\n",
    "latex_printValue(k_s[0], \"kappaLuft\")\n",
    "latex_printValue(k_s[1], \"kappaArgon\")\n",
    "latex_printValue(k_s[2], \"kappaCO2\")"
   ]
  },
  {
   "cell_type": "code",
   "execution_count": 136,
   "metadata": {},
   "outputs": [
    {
     "ename": "ValueError",
     "evalue": "operands could not be broadcast together with shapes (3,3,2) (3,) ",
     "output_type": "error",
     "traceback": [
      "\u001b[1;31m---------------------------------------------------------------------------\u001b[0m",
      "\u001b[1;31mValueError\u001b[0m                                Traceback (most recent call last)",
      "\u001b[1;32m<ipython-input-136-2e66d0f22980>\u001b[0m in \u001b[0;36m<module>\u001b[1;34m()\u001b[0m\n\u001b[0;32m      3\u001b[0m \u001b[0mpumpe\u001b[0m \u001b[1;33m=\u001b[0m \u001b[0mnum\u001b[0m\u001b[1;33m.\u001b[0m\u001b[0marray\u001b[0m\u001b[1;33m(\u001b[0m\u001b[1;33m[\u001b[0m\u001b[0mpumpe1\u001b[0m\u001b[1;33m,\u001b[0m \u001b[0mpumpe2\u001b[0m\u001b[1;33m,\u001b[0m \u001b[0mpumpe3\u001b[0m\u001b[1;33m]\u001b[0m\u001b[1;33m)\u001b[0m\u001b[1;33m\u001b[0m\u001b[0m\n\u001b[0;32m      4\u001b[0m \u001b[1;33m\u001b[0m\u001b[0m\n\u001b[1;32m----> 5\u001b[1;33m \u001b[0mk\u001b[0m \u001b[1;33m=\u001b[0m \u001b[0mpumpe\u001b[0m \u001b[1;33m-\u001b[0m \u001b[0mh\u001b[0m\u001b[1;33m\u001b[0m\u001b[0m\n\u001b[0m\u001b[0;32m      6\u001b[0m \u001b[1;33m\u001b[0m\u001b[0m\n\u001b[0;32m      7\u001b[0m \u001b[0mk1\u001b[0m \u001b[1;33m=\u001b[0m \u001b[1;33m(\u001b[0m\u001b[0mpumpe1\u001b[0m \u001b[1;33m-\u001b[0m \u001b[0mh0\u001b[0m\u001b[1;33m)\u001b[0m \u001b[1;33m*\u001b[0m \u001b[1;36m2\u001b[0m \u001b[1;31m# differenz beider saeulen\u001b[0m\u001b[1;33m\u001b[0m\u001b[0m\n",
      "\u001b[1;31mValueError\u001b[0m: operands could not be broadcast together with shapes (3,3,2) (3,) "
     ]
    }
   ],
   "source": [
    "# Rechnung Clement Desormes\n",
    "\n",
    "k1 = (pumpe1 - h0) * 2 # differenz beider saeulen\n",
    "k2 = (pumpe2 - h0) * 2 # differenz beider saeulen\n",
    "k3 = (pumpe3 - h1) * 2 # differenz beider saeulen\n",
    "\n",
    "k = num.array([k1, k2, k3])\n",
    "k[:,:,0] - k[:,:,1]\n",
    "#k1[:,0] / (k1[:,0] - k1[:,1])"
   ]
  },
  {
   "cell_type": "code",
   "execution_count": null,
   "metadata": {
    "collapsed": true
   },
   "outputs": [],
   "source": []
  }
 ],
 "metadata": {
  "kernelspec": {
   "display_name": "Python 3",
   "language": "python",
   "name": "python3"
  },
  "language_info": {
   "codemirror_mode": {
    "name": "ipython",
    "version": 3
   },
   "file_extension": ".py",
   "mimetype": "text/x-python",
   "name": "python",
   "nbconvert_exporter": "python",
   "pygments_lexer": "ipython3",
   "version": "3.6.3"
  }
 },
 "nbformat": 4,
 "nbformat_minor": 2
}
