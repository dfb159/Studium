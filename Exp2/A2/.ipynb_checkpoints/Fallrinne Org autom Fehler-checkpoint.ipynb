{
 "cells": [
  {
   "cell_type": "code",
   "execution_count": 6,
   "metadata": {
    "collapsed": true
   },
   "outputs": [],
   "source": [
    "# Importanweisungen\n",
    "\n",
    "import numpy as num\n",
    "import scipy as sci\n",
    "import sympy as sym\n",
    "import matplotlib.pyplot as plt\n",
    "import matplotlib\n",
    "import matplotlib.axes as axes\n",
    "import math\n",
    "from scipy import optimize\n",
    "import uncertainties as uc\n",
    "import uncertainties.unumpy as unp \n",
    "unv=unp.nominal_values\n",
    "usd=unp.std_devs"
   ]
  },
  {
   "cell_type": "code",
   "execution_count": 7,
   "metadata": {
    "collapsed": true
   },
   "outputs": [],
   "source": [
    "# Konstanten fuer einheitliche Darstellung\n",
    "\n",
    "fig_size = (10, 6)\n",
    "fig_legendsize = 14\n",
    "fig_labelsize = 12"
   ]
  },
  {
   "cell_type": "code",
   "execution_count": 8,
   "metadata": {
    "collapsed": true
   },
   "outputs": [],
   "source": [
    "# allgemeine Fitfunktionen\n",
    "\n",
    "def linear(x,m): # lineare Funktion mit f(x) = m * x \n",
    "    return(m*x)\n",
    "\n",
    "def gerade(x, m, b): # gerade mit = f(x) = m * x + b\n",
    "    return (m*x + b)\n",
    "\n",
    "# fittet ein dataset mit gegebenen x und y werten, eine funktion und ggf. anfangswerten und y-Fehler\n",
    "# gibt die passenden parameter der funktion, sowie dessen unsicherheiten zurueck\n",
    "#\n",
    "# https://stackoverflow.com/questions/14581358/getting-standard-errors-on-fitted-parameters-using-the-optimize-leastsq-method-i#\n",
    "# Updated on 4/6/2016\n",
    "# User: https://stackoverflow.com/users/1476240/pedro-m-duarte\n",
    "def fit_curvefit(datax, datay, function, p0=None, yerr=None, **kwargs):\n",
    "\n",
    "    pfit, pcov = \\\n",
    "         optimize.curve_fit(function,datax,datay,p0=p0,\\\n",
    "                            sigma=yerr, epsfcn=0.0001, **kwargs)\n",
    "    error = [] \n",
    "    for i in range(len(pfit)):\n",
    "        try:\n",
    "          error.append(num.absolute(pcov[i][i])**0.5)\n",
    "        except:\n",
    "          error.append( 0.00 )\n",
    "    pfit_curvefit = pfit\n",
    "    perr_curvefit = num.array(error)\n",
    "    return pfit_curvefit, perr_curvefit \n",
    "\n",
    "# usage zB:\n",
    "# pfit, perr = fit_curvefit(unv(xdata), unv(ydata), gerade, yerr = usd(ydata), p0 = [1, 0])\n",
    "# fuer eine gerade mit anfangswerten m = 1, b = 0"
   ]
  },
  {
   "cell_type": "code",
   "execution_count": 9,
   "metadata": {
    "collapsed": true
   },
   "outputs": [],
   "source": [
    "# gibt Daten fuer LaTeX bereitgestellt aus\n",
    "\n",
    "def latex_printValue(val, file):\n",
    "    f = open('data/%s.txt' % file, 'w')\n",
    "    f.write(str(val).replace('/', ''))"
   ]
  },
  {
   "cell_type": "code",
   "execution_count": 15,
   "metadata": {},
   "outputs": [
    {
     "data": {
      "text/plain": [
       "(array([0.0+/-0.05773502691896258, 0.1+/-0.05773502691896258,\n",
       "        0.2+/-0.05773502691896258, 0.3+/-0.05773502691896258,\n",
       "        0.4+/-0.05773502691896258, 0.6+/-0.05773502691896258,\n",
       "        0.8+/-0.05773502691896258, 0.9+/-0.05773502691896258,\n",
       "        1.0+/-0.05773502691896258, 1.1+/-0.05773502691896258,\n",
       "        1.3+/-0.05773502691896258, 1.5+/-0.05773502691896258,\n",
       "        1.6+/-0.05773502691896258, 1.7+/-0.05773502691896258,\n",
       "        1.9+/-0.05773502691896258, 2.1+/-0.05773502691896258], dtype=object),\n",
       " array([0.0+/-0.05773502691896258, 0.0+/-0.05773502691896258,\n",
       "        0.1+/-0.05773502691896258, 0.2+/-0.05773502691896258,\n",
       "        0.25+/-0.05773502691896258, 0.4+/-0.05773502691896258,\n",
       "        0.55+/-0.05773502691896258, 0.05+/-0.05773502691896258,\n",
       "        0.2+/-0.05773502691896258, 0.3+/-0.05773502691896258,\n",
       "        0.45+/-0.05773502691896258, 0.7+/-0.05773502691896258,\n",
       "        0.2+/-0.05773502691896258, 0.3+/-0.05773502691896258,\n",
       "        0.5+/-0.05773502691896258, 0.8+/-0.05773502691896258], dtype=object))"
      ]
     },
     "execution_count": 15,
     "metadata": {},
     "output_type": "execute_result"
    }
   ],
   "source": [
    "# import der messwerte\n",
    "\n",
    "unc_I = 0.1/num.sqrt(3)\n",
    "unc_U = 0.1/num.sqrt(3)\n",
    "\n",
    "data = num.loadtxt(\"messung/testIU.txt\", comments = \"#\", delimiter = \"\\t\", unpack=False)\n",
    "U = unp.uarray(data[:,0], unc_U) # erste spalte Spannung U mit unc_U\n",
    "I = unp.uarray(data[:,1], unc_I) # zweite spalte Stromstärke mit unc_I\n",
    "U, I # auslenkungen"
   ]
  },
  {
   "cell_type": "code",
   "execution_count": 24,
   "metadata": {},
   "outputs": [],
   "source": [
    "# weitere Werte aus 2\n",
    "\n"
   ]
  },
  {
   "cell_type": "code",
   "execution_count": 21,
   "metadata": {},
   "outputs": [
    {
     "data": {
      "image/png": "[encoded data removed]",
      "text/plain": [
       "<matplotlib.figure.Figure at 0x27c3c41fa58>"
      ]
     },
     "metadata": {},
     "output_type": "display_data"
    }
   ],
   "source": [
    "# diagramm 1: I_A / U_B\n",
    "\n",
    "fig=plt.figure(figsize=fig_size)\n",
    "\n",
    "# kein Fit!\n",
    "# p0 = None # startwerte, wenn unsicher: p0 = None\n",
    "# pfit, perr = fit_curvefit(unv(sqrth), unv(a), gerade, yerr = usd(a))\n",
    "# p = unp.uarray(pfit, perr)\n",
    "\n",
    "plt.errorbar(unv(U),unv(I),usd(U),usd(I),fmt='none', capsize=5, linewidth=2, label='Testwerte mit Fehlerbalken')\n",
    "\n",
    "#plt.xlim(0,1200)\n",
    "plt.legend(prop={'size':fig_legendsize})\n",
    "plt.grid()\n",
    "plt.tick_params(labelsize=fig_labelsize)\n",
    "plt.xlabel(\"Beschleunigungsspannung $U_B$ [V]\", {'fontsize':fig_legendsize+2})\n",
    "plt.ylabel(\"Anodenstrom $I_A$ [$A$]\", {'fontsize': fig_legendsize+2})\n",
    "plt.savefig(\"data/Testmessung.pdf\")\n",
    "plt.show()"
   ]
  },
  {
   "cell_type": "code",
   "execution_count": 22,
   "metadata": {},
   "outputs": [
    {
     "data": {
      "image/png": "[encoded data removed]",
      "text/plain": [
       "<matplotlib.figure.Figure at 0x27c3c5dd4a8>"
      ]
     },
     "metadata": {},
     "output_type": "display_data"
    }
   ],
   "source": [
    "# plot ohne uncertanties ohne ausgleichsgerade\n",
    "\n",
    "fig=plt.figure(figsize=fig_size)\n",
    "plt.plot(unv(U),unv(I),'bx')\n",
    "plt.legend(prop={'size':fig_legendsize})\n",
    "plt.grid()\n",
    "plt.tick_params(labelsize=fig_labelsize)\n",
    "plt.ylabel(\"Auslenkung [m]\", {'fontsize':fig_legendsize+2})\n",
    "plt.xlabel(\"Wurzel der Höhe [$\\sqrt{m}$]\", {'fontsize': fig_legendsize+2})\n",
    "plt.savefig(\"data/TestmessungB.pdf\")\n",
    "plt.show()"
   ]
  },
  {
   "cell_type": "code",
   "execution_count": null,
   "metadata": {
    "collapsed": true
   },
   "outputs": [],
   "source": []
  }
 ],
 "metadata": {
  "kernelspec": {
   "display_name": "Python 3",
   "language": "python",
   "name": "python3"
  },
  "language_info": {
   "codemirror_mode": {
    "name": "ipython",
    "version": 3
   },
   "file_extension": ".py",
   "mimetype": "text/x-python",
   "name": "python",
   "nbconvert_exporter": "python",
   "pygments_lexer": "ipython3",
   "version": "3.6.3"
  }
 },
 "nbformat": 4,
 "nbformat_minor": 2
}
